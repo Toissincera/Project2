{
 "cells": [
  {
   "cell_type": "code",
   "execution_count": 1,
   "id": "b9d34450",
   "metadata": {},
   "outputs": [],
   "source": [
    "import pandas as pd \n",
    "import numpy as np\n",
    "import seaborn as sns\n",
    "import matplotlib.pyplot as plt"
   ]
  },
  {
   "cell_type": "code",
   "execution_count": 2,
   "id": "b0c3b136",
   "metadata": {},
   "outputs": [],
   "source": [
    "pd.set_option('display.max_rows',500)\n",
    "pd.set_option('display.max_columns',500)\n",
    "pd.set_option('display.width',1000)"
   ]
  },
  {
   "cell_type": "code",
   "execution_count": 4,
   "id": "7b166376",
   "metadata": {},
   "outputs": [],
   "source": [
    "fullRaw=pd.read_csv('finance_train.csv')"
   ]
  },
  {
   "cell_type": "code",
   "execution_count": 5,
   "id": "9bb416b5",
   "metadata": {},
   "outputs": [],
   "source": [
    "from sklearn.model_selection import train_test_split\n",
    "trainDf, testDf = train_test_split(fullRaw, train_size = 0.7, random_state = 123)"
   ]
  },
  {
   "cell_type": "code",
   "execution_count": 6,
   "id": "8e873dae",
   "metadata": {},
   "outputs": [],
   "source": [
    "trainDf['Source'] = 'Train'\n",
    "testDf['Source'] = 'Test'\n"
   ]
  },
  {
   "cell_type": "code",
   "execution_count": 7,
   "id": "c71eaf73",
   "metadata": {},
   "outputs": [
    {
     "data": {
      "text/html": [
       "<div>\n",
       "<style scoped>\n",
       "    .dataframe tbody tr th:only-of-type {\n",
       "        vertical-align: middle;\n",
       "    }\n",
       "\n",
       "    .dataframe tbody tr th {\n",
       "        vertical-align: top;\n",
       "    }\n",
       "\n",
       "    .dataframe thead th {\n",
       "        text-align: right;\n",
       "    }\n",
       "</style>\n",
       "<table border=\"1\" class=\"dataframe\">\n",
       "  <thead>\n",
       "    <tr style=\"text-align: right;\">\n",
       "      <th></th>\n",
       "      <th>REF_NO</th>\n",
       "      <th>children</th>\n",
       "      <th>age_band</th>\n",
       "      <th>status</th>\n",
       "      <th>occupation</th>\n",
       "      <th>occupation_partner</th>\n",
       "      <th>home_status</th>\n",
       "      <th>family_income</th>\n",
       "      <th>self_employed</th>\n",
       "      <th>self_employed_partner</th>\n",
       "      <th>year_last_moved</th>\n",
       "      <th>TVarea</th>\n",
       "      <th>post_code</th>\n",
       "      <th>post_area</th>\n",
       "      <th>Average.Credit.Card.Transaction</th>\n",
       "      <th>Balance.Transfer</th>\n",
       "      <th>Term.Deposit</th>\n",
       "      <th>Life.Insurance</th>\n",
       "      <th>Medical.Insurance</th>\n",
       "      <th>Average.A.C.Balance</th>\n",
       "      <th>Personal.Loan</th>\n",
       "      <th>Investment.in.Mutual.Fund</th>\n",
       "      <th>Investment.Tax.Saving.Bond</th>\n",
       "      <th>Home.Loan</th>\n",
       "      <th>Online.Purchase.Amount</th>\n",
       "      <th>Revenue.Grid</th>\n",
       "      <th>gender</th>\n",
       "      <th>region</th>\n",
       "      <th>Investment.in.Commudity</th>\n",
       "      <th>Investment.in.Equity</th>\n",
       "      <th>Investment.in.Derivative</th>\n",
       "      <th>Portfolio.Balance</th>\n",
       "      <th>Source</th>\n",
       "    </tr>\n",
       "  </thead>\n",
       "  <tbody>\n",
       "    <tr>\n",
       "      <th>5316</th>\n",
       "      <td>1685</td>\n",
       "      <td>Zero</td>\n",
       "      <td>51-55</td>\n",
       "      <td>Partner</td>\n",
       "      <td>Housewife</td>\n",
       "      <td>Manual Worker</td>\n",
       "      <td>Own Home</td>\n",
       "      <td>&lt;22,500, &gt;=20,000</td>\n",
       "      <td>No</td>\n",
       "      <td>No</td>\n",
       "      <td>1996</td>\n",
       "      <td>Anglia</td>\n",
       "      <td>CB9 9HF</td>\n",
       "      <td>CB9</td>\n",
       "      <td>74.97</td>\n",
       "      <td>0.00</td>\n",
       "      <td>79.96</td>\n",
       "      <td>22.99</td>\n",
       "      <td>15.49</td>\n",
       "      <td>24.99</td>\n",
       "      <td>0.00</td>\n",
       "      <td>11.99</td>\n",
       "      <td>14.48</td>\n",
       "      <td>0.00</td>\n",
       "      <td>0.0</td>\n",
       "      <td>2</td>\n",
       "      <td>Female</td>\n",
       "      <td>East Anglia</td>\n",
       "      <td>38.68</td>\n",
       "      <td>8.58</td>\n",
       "      <td>14.99</td>\n",
       "      <td>59.07</td>\n",
       "      <td>Train</td>\n",
       "    </tr>\n",
       "    <tr>\n",
       "      <th>1073</th>\n",
       "      <td>1612</td>\n",
       "      <td>1</td>\n",
       "      <td>36-40</td>\n",
       "      <td>Partner</td>\n",
       "      <td>Secretarial/Admin</td>\n",
       "      <td>Professional</td>\n",
       "      <td>Own Home</td>\n",
       "      <td>&gt;=35,000</td>\n",
       "      <td>No</td>\n",
       "      <td>No</td>\n",
       "      <td>1982</td>\n",
       "      <td>Central</td>\n",
       "      <td>NG25 0BJ</td>\n",
       "      <td>NG25</td>\n",
       "      <td>0.00</td>\n",
       "      <td>0.00</td>\n",
       "      <td>32.28</td>\n",
       "      <td>126.93</td>\n",
       "      <td>34.95</td>\n",
       "      <td>59.98</td>\n",
       "      <td>36.97</td>\n",
       "      <td>15.99</td>\n",
       "      <td>0.00</td>\n",
       "      <td>0.00</td>\n",
       "      <td>0.0</td>\n",
       "      <td>2</td>\n",
       "      <td>Female</td>\n",
       "      <td>East Midlands</td>\n",
       "      <td>38.83</td>\n",
       "      <td>18.82</td>\n",
       "      <td>45.80</td>\n",
       "      <td>112.32</td>\n",
       "      <td>Train</td>\n",
       "    </tr>\n",
       "    <tr>\n",
       "      <th>7552</th>\n",
       "      <td>7750</td>\n",
       "      <td>1</td>\n",
       "      <td>36-40</td>\n",
       "      <td>Partner</td>\n",
       "      <td>Other</td>\n",
       "      <td>Business Manager</td>\n",
       "      <td>Own Home</td>\n",
       "      <td>&lt;30,000, &gt;=27,500</td>\n",
       "      <td>No</td>\n",
       "      <td>No</td>\n",
       "      <td>1968</td>\n",
       "      <td>Yorkshire</td>\n",
       "      <td>S32 4TS</td>\n",
       "      <td>S32</td>\n",
       "      <td>0.00</td>\n",
       "      <td>153.95</td>\n",
       "      <td>0.00</td>\n",
       "      <td>276.37</td>\n",
       "      <td>24.99</td>\n",
       "      <td>172.87</td>\n",
       "      <td>20.98</td>\n",
       "      <td>71.93</td>\n",
       "      <td>0.00</td>\n",
       "      <td>11.99</td>\n",
       "      <td>0.0</td>\n",
       "      <td>2</td>\n",
       "      <td>Female</td>\n",
       "      <td>East Midlands</td>\n",
       "      <td>91.06</td>\n",
       "      <td>46.30</td>\n",
       "      <td>94.52</td>\n",
       "      <td>184.96</td>\n",
       "      <td>Train</td>\n",
       "    </tr>\n",
       "    <tr>\n",
       "      <th>3372</th>\n",
       "      <td>3840</td>\n",
       "      <td>Zero</td>\n",
       "      <td>Unknown</td>\n",
       "      <td>Unknown</td>\n",
       "      <td>Unknown</td>\n",
       "      <td>Unknown</td>\n",
       "      <td>Unclassified</td>\n",
       "      <td>Unknown</td>\n",
       "      <td>No</td>\n",
       "      <td>No</td>\n",
       "      <td>0</td>\n",
       "      <td>Scottish TV</td>\n",
       "      <td>KA30 8LB</td>\n",
       "      <td>KA30</td>\n",
       "      <td>0.00</td>\n",
       "      <td>0.00</td>\n",
       "      <td>29.99</td>\n",
       "      <td>0.00</td>\n",
       "      <td>0.00</td>\n",
       "      <td>0.00</td>\n",
       "      <td>0.00</td>\n",
       "      <td>0.00</td>\n",
       "      <td>0.00</td>\n",
       "      <td>0.00</td>\n",
       "      <td>0.0</td>\n",
       "      <td>2</td>\n",
       "      <td>Female</td>\n",
       "      <td>Scotland</td>\n",
       "      <td>6.00</td>\n",
       "      <td>0.00</td>\n",
       "      <td>0.00</td>\n",
       "      <td>5.92</td>\n",
       "      <td>Train</td>\n",
       "    </tr>\n",
       "    <tr>\n",
       "      <th>1207</th>\n",
       "      <td>6293</td>\n",
       "      <td>Zero</td>\n",
       "      <td>36-40</td>\n",
       "      <td>Single/Never Married</td>\n",
       "      <td>Secretarial/Admin</td>\n",
       "      <td>Unknown</td>\n",
       "      <td>Own Home</td>\n",
       "      <td>&lt;22,500, &gt;=20,000</td>\n",
       "      <td>No</td>\n",
       "      <td>No</td>\n",
       "      <td>1978</td>\n",
       "      <td>Tyne Tees</td>\n",
       "      <td>TS22 5AX</td>\n",
       "      <td>TS22</td>\n",
       "      <td>6.99</td>\n",
       "      <td>0.00</td>\n",
       "      <td>0.00</td>\n",
       "      <td>40.96</td>\n",
       "      <td>0.00</td>\n",
       "      <td>7.99</td>\n",
       "      <td>0.00</td>\n",
       "      <td>13.49</td>\n",
       "      <td>3.49</td>\n",
       "      <td>1.49</td>\n",
       "      <td>0.0</td>\n",
       "      <td>2</td>\n",
       "      <td>Female</td>\n",
       "      <td>North</td>\n",
       "      <td>9.59</td>\n",
       "      <td>4.41</td>\n",
       "      <td>10.99</td>\n",
       "      <td>1.29</td>\n",
       "      <td>Train</td>\n",
       "    </tr>\n",
       "  </tbody>\n",
       "</table>\n",
       "</div>"
      ],
      "text/plain": [
       "      REF_NO children age_band                status         occupation occupation_partner   home_status      family_income self_employed self_employed_partner  year_last_moved       TVarea post_code post_area  Average.Credit.Card.Transaction  Balance.Transfer  Term.Deposit  Life.Insurance  Medical.Insurance  Average.A.C.Balance  Personal.Loan  Investment.in.Mutual.Fund  Investment.Tax.Saving.Bond  Home.Loan  Online.Purchase.Amount  Revenue.Grid  gender         region  Investment.in.Commudity  Investment.in.Equity  Investment.in.Derivative  Portfolio.Balance Source\n",
       "5316    1685     Zero    51-55               Partner          Housewife      Manual Worker      Own Home  <22,500, >=20,000            No                    No             1996       Anglia   CB9 9HF       CB9                            74.97              0.00         79.96           22.99              15.49                24.99           0.00                      11.99                       14.48       0.00                     0.0             2  Female    East Anglia                    38.68                  8.58                     14.99              59.07  Train\n",
       "1073    1612        1    36-40               Partner  Secretarial/Admin       Professional      Own Home           >=35,000            No                    No             1982      Central  NG25 0BJ      NG25                             0.00              0.00         32.28          126.93              34.95                59.98          36.97                      15.99                        0.00       0.00                     0.0             2  Female  East Midlands                    38.83                 18.82                     45.80             112.32  Train\n",
       "7552    7750        1    36-40               Partner              Other   Business Manager      Own Home  <30,000, >=27,500            No                    No             1968    Yorkshire   S32 4TS       S32                             0.00            153.95          0.00          276.37              24.99               172.87          20.98                      71.93                        0.00      11.99                     0.0             2  Female  East Midlands                    91.06                 46.30                     94.52             184.96  Train\n",
       "3372    3840     Zero  Unknown               Unknown            Unknown            Unknown  Unclassified            Unknown            No                    No                0  Scottish TV  KA30 8LB      KA30                             0.00              0.00         29.99            0.00               0.00                 0.00           0.00                       0.00                        0.00       0.00                     0.0             2  Female       Scotland                     6.00                  0.00                      0.00               5.92  Train\n",
       "1207    6293     Zero    36-40  Single/Never Married  Secretarial/Admin            Unknown      Own Home  <22,500, >=20,000            No                    No             1978    Tyne Tees  TS22 5AX      TS22                             6.99              0.00          0.00           40.96               0.00                 7.99           0.00                      13.49                        3.49       1.49                     0.0             2  Female          North                     9.59                  4.41                     10.99               1.29  Train"
      ]
     },
     "execution_count": 7,
     "metadata": {},
     "output_type": "execute_result"
    }
   ],
   "source": [
    "fullRaw = pd.concat([trainDf, testDf], axis = 0)\n",
    "fullRaw.shape\n",
    "fullRaw.head()\n"
   ]
  },
  {
   "cell_type": "code",
   "execution_count": 113,
   "id": "e964f43f",
   "metadata": {},
   "outputs": [
    {
     "data": {
      "text/plain": [
       "(8124, 33)"
      ]
     },
     "execution_count": 113,
     "metadata": {},
     "output_type": "execute_result"
    }
   ],
   "source": [
    "fullRaw.shape"
   ]
  },
  {
   "cell_type": "code",
   "execution_count": 114,
   "id": "1d611e9b",
   "metadata": {},
   "outputs": [
    {
     "data": {
      "text/plain": [
       "REF_NO                             0\n",
       "children                           0\n",
       "age_band                           0\n",
       "status                             0\n",
       "occupation                         0\n",
       "occupation_partner                 0\n",
       "home_status                        0\n",
       "family_income                      0\n",
       "self_employed                      0\n",
       "self_employed_partner              0\n",
       "year_last_moved                    0\n",
       "TVarea                             0\n",
       "post_code                          0\n",
       "post_area                          0\n",
       "Average.Credit.Card.Transaction    0\n",
       "Balance.Transfer                   0\n",
       "Term.Deposit                       0\n",
       "Life.Insurance                     0\n",
       "Medical.Insurance                  0\n",
       "Average.A.C.Balance                0\n",
       "Personal.Loan                      0\n",
       "Investment.in.Mutual.Fund          0\n",
       "Investment.Tax.Saving.Bond         0\n",
       "Home.Loan                          0\n",
       "Online.Purchase.Amount             0\n",
       "Revenue.Grid                       0\n",
       "gender                             0\n",
       "region                             0\n",
       "Investment.in.Commudity            0\n",
       "Investment.in.Equity               0\n",
       "Investment.in.Derivative           0\n",
       "Portfolio.Balance                  0\n",
       "Source                             0\n",
       "dtype: int64"
      ]
     },
     "execution_count": 114,
     "metadata": {},
     "output_type": "execute_result"
    }
   ],
   "source": [
    "fullRaw.isnull().sum()"
   ]
  },
  {
   "cell_type": "code",
   "execution_count": 10,
   "id": "d562a6e9",
   "metadata": {},
   "outputs": [
    {
     "data": {
      "image/png": "[encoded data removed]",
      "text/plain": [
       "<Figure size 432x288 with 1 Axes>"
      ]
     },
     "metadata": {
      "needs_background": "light"
     },
     "output_type": "display_data"
    },
    {
     "data": {
      "image/png": "[encoded data removed]",
      "text/plain": [
       "<Figure size 432x288 with 1 Axes>"
      ]
     },
     "metadata": {
      "needs_background": "light"
     },
     "output_type": "display_data"
    },
    {
     "data": {
      "image/png": "[encoded data removed]",
      "text/plain": [
       "<Figure size 432x288 with 1 Axes>"
      ]
     },
     "metadata": {
      "needs_background": "light"
     },
     "output_type": "display_data"
    },
    {
     "data": {
      "image/png": "[encoded data removed]",
      "text/plain": [
       "<Figure size 432x288 with 1 Axes>"
      ]
     },
     "metadata": {
      "needs_background": "light"
     },
     "output_type": "display_data"
    },
    {
     "data": {
      "image/png": "[encoded data removed]",
      "text/plain": [
       "<Figure size 432x288 with 1 Axes>"
      ]
     },
     "metadata": {
      "needs_background": "light"
     },
     "output_type": "display_data"
    },
    {
     "data": {
      "image/png": "[encoded data removed]",
      "text/plain": [
       "<Figure size 432x288 with 1 Axes>"
      ]
     },
     "metadata": {
      "needs_background": "light"
     },
     "output_type": "display_data"
    },
    {
     "data": {
      "image/png": "[encoded data removed]",
      "text/plain": [
       "<Figure size 432x288 with 1 Axes>"
      ]
     },
     "metadata": {
      "needs_background": "light"
     },
     "output_type": "display_data"
    },
    {
     "data": {
      "image/png": "[encoded data removed]",
      "text/plain": [
       "<Figure size 432x288 with 1 Axes>"
      ]
     },
     "metadata": {
      "needs_background": "light"
     },
     "output_type": "display_data"
    },
    {
     "data": {
      "image/png": "[encoded data removed]",
      "text/plain": [
       "<Figure size 432x288 with 1 Axes>"
      ]
     },
     "metadata": {
      "needs_background": "light"
     },
     "output_type": "display_data"
    },
    {
     "data": {
      "image/png": "[encoded data removed]",
      "text/plain": [
       "<Figure size 432x288 with 1 Axes>"
      ]
     },
     "metadata": {
      "needs_background": "light"
     },
     "output_type": "display_data"
    },
    {
     "data": {
      "image/png": "[encoded data removed]",
      "text/plain": [
       "<Figure size 432x288 with 1 Axes>"
      ]
     },
     "metadata": {
      "needs_background": "light"
     },
     "output_type": "display_data"
    },
    {
     "data": {
      "image/png": "[encoded data removed]",
      "text/plain": [
       "<Figure size 432x288 with 1 Axes>"
      ]
     },
     "metadata": {
      "needs_background": "light"
     },
     "output_type": "display_data"
    },
    {
     "data": {
      "image/png": "[encoded data removed]",
      "text/plain": [
       "<Figure size 432x288 with 1 Axes>"
      ]
     },
     "metadata": {
      "needs_background": "light"
     },
     "output_type": "display_data"
    },
    {
     "data": {
      "image/png": "[encoded data removed]",
      "text/plain": [
       "<Figure size 432x288 with 1 Axes>"
      ]
     },
     "metadata": {
      "needs_background": "light"
     },
     "output_type": "display_data"
    },
    {
     "data": {
      "image/png": "[encoded data removed]",
      "text/plain": [
       "<Figure size 432x288 with 1 Axes>"
      ]
     },
     "metadata": {
      "needs_background": "light"
     },
     "output_type": "display_data"
    },
    {
     "data": {
      "image/png": "[encoded data removed]",
      "text/plain": [
       "<Figure size 432x288 with 1 Axes>"
      ]
     },
     "metadata": {
      "needs_background": "light"
     },
     "output_type": "display_data"
    },
    {
     "data": {
      "image/png": "[encoded data removed]",
      "text/plain": [
       "<Figure size 432x288 with 1 Axes>"
      ]
     },
     "metadata": {
      "needs_background": "light"
     },
     "output_type": "display_data"
    },
    {
     "data": {
      "image/png": "[encoded data removed]",
      "text/plain": [
       "<Figure size 432x288 with 1 Axes>"
      ]
     },
     "metadata": {
      "needs_background": "light"
     },
     "output_type": "display_data"
    }
   ],
   "source": [
    "for i in fullRaw.columns:\n",
    "    if fullRaw[i].dtypes!='object':\n",
    "        plt.boxplot(fullRaw[i])\n",
    "        plt.xlabel(i)\n",
    "        plt.show()"
   ]
  },
  {
   "cell_type": "code",
   "execution_count": 11,
   "id": "831a9312",
   "metadata": {
    "scrolled": true
   },
   "outputs": [
    {
     "data": {
      "text/plain": [
       "REF_NO                               int64\n",
       "children                            object\n",
       "age_band                            object\n",
       "status                              object\n",
       "occupation                          object\n",
       "occupation_partner                  object\n",
       "home_status                         object\n",
       "family_income                       object\n",
       "self_employed                       object\n",
       "self_employed_partner               object\n",
       "year_last_moved                      int64\n",
       "TVarea                              object\n",
       "post_code                           object\n",
       "post_area                           object\n",
       "Average.Credit.Card.Transaction    float64\n",
       "Balance.Transfer                   float64\n",
       "Term.Deposit                       float64\n",
       "Life.Insurance                     float64\n",
       "Medical.Insurance                  float64\n",
       "Average.A.C.Balance                float64\n",
       "Personal.Loan                      float64\n",
       "Investment.in.Mutual.Fund          float64\n",
       "Investment.Tax.Saving.Bond         float64\n",
       "Home.Loan                          float64\n",
       "Online.Purchase.Amount             float64\n",
       "Revenue.Grid                         int64\n",
       "gender                              object\n",
       "region                              object\n",
       "Investment.in.Commudity            float64\n",
       "Investment.in.Equity               float64\n",
       "Investment.in.Derivative           float64\n",
       "Portfolio.Balance                  float64\n",
       "Source                              object\n",
       "dtype: object"
      ]
     },
     "execution_count": 11,
     "metadata": {},
     "output_type": "execute_result"
    }
   ],
   "source": [
    "fullRaw.dtypes"
   ]
  },
  {
   "cell_type": "code",
   "execution_count": 117,
   "id": "faea2873",
   "metadata": {},
   "outputs": [],
   "source": [
    "#Correlation"
   ]
  },
  {
   "cell_type": "code",
   "execution_count": 12,
   "id": "16579af6",
   "metadata": {},
   "outputs": [
    {
     "data": {
      "text/plain": [
       "<AxesSubplot:>"
      ]
     },
     "execution_count": 12,
     "metadata": {},
     "output_type": "execute_result"
    },
    {
     "data": {
      "image/png": "[encoded data removed]",
      "text/plain": [
       "<Figure size 432x288 with 2 Axes>"
      ]
     },
     "metadata": {
      "needs_background": "light"
     },
     "output_type": "display_data"
    }
   ],
   "source": [
    "sns.heatmap(fullRaw.corr(),cmap='inferno_r')"
   ]
  },
  {
   "cell_type": "code",
   "execution_count": 119,
   "id": "56d6cdca",
   "metadata": {},
   "outputs": [],
   "source": [
    "#Counting Values"
   ]
  },
  {
   "cell_type": "code",
   "execution_count": 13,
   "id": "74ff5b2d",
   "metadata": {
    "scrolled": true
   },
   "outputs": [
    {
     "data": {
      "text/plain": [
       ">=35,000             2036\n",
       "<27,500, >=25,000     978\n",
       "<30,000, >=27,500     788\n",
       "<25,000, >=22,500     676\n",
       "<20,000, >=17,500     542\n",
       "<12,500, >=10,000     536\n",
       "<17,500, >=15,000     511\n",
       "<15,000, >=12,500     497\n",
       "<22,500, >=20,000     461\n",
       "<10,000, >= 8,000     454\n",
       "< 8,000, >= 4,000     322\n",
       "< 4,000               222\n",
       "Unknown               101\n",
       "Name: family_income, dtype: int64"
      ]
     },
     "execution_count": 13,
     "metadata": {},
     "output_type": "execute_result"
    }
   ],
   "source": [
    "fullRaw['family_income'].value_counts()"
   ]
  },
  {
   "cell_type": "code",
   "execution_count": 15,
   "id": "76d6815c",
   "metadata": {},
   "outputs": [
    {
     "data": {
      "text/plain": [
       "Zero    4966\n",
       "1       1491\n",
       "2       1282\n",
       "3        373\n",
       "4+        12\n",
       "Name: children, dtype: int64"
      ]
     },
     "execution_count": 15,
     "metadata": {},
     "output_type": "execute_result"
    }
   ],
   "source": [
    "fullRaw['children'].value_counts()"
   ]
  },
  {
   "cell_type": "code",
   "execution_count": 16,
   "id": "621ded2e",
   "metadata": {},
   "outputs": [
    {
     "data": {
      "text/plain": [
       "45-50      1091\n",
       "36-40       911\n",
       "41-45       889\n",
       "51-55       856\n",
       "31-35       841\n",
       "55-60       834\n",
       "26-30       750\n",
       "61-65       702\n",
       "65-70       480\n",
       "22-25       359\n",
       "71+         322\n",
       "18-21        48\n",
       "Unknown      41\n",
       "Name: age_band, dtype: int64"
      ]
     },
     "execution_count": 16,
     "metadata": {},
     "output_type": "execute_result"
    }
   ],
   "source": [
    "fullRaw['age_band'].value_counts()"
   ]
  },
  {
   "cell_type": "code",
   "execution_count": 17,
   "id": "2b442ae2",
   "metadata": {},
   "outputs": [
    {
     "data": {
      "text/plain": [
       ">=35,000             2036\n",
       "<27,500, >=25,000     978\n",
       "<30,000, >=27,500     788\n",
       "<25,000, >=22,500     676\n",
       "<20,000, >=17,500     542\n",
       "<12,500, >=10,000     536\n",
       "<17,500, >=15,000     511\n",
       "<15,000, >=12,500     497\n",
       "<22,500, >=20,000     461\n",
       "<10,000, >= 8,000     454\n",
       "< 8,000, >= 4,000     322\n",
       "< 4,000               222\n",
       "Unknown               101\n",
       "Name: family_income, dtype: int64"
      ]
     },
     "execution_count": 17,
     "metadata": {},
     "output_type": "execute_result"
    }
   ],
   "source": [
    "fullRaw['family_income'].value_counts()"
   ]
  },
  {
   "cell_type": "code",
   "execution_count": 19,
   "id": "d787cece",
   "metadata": {},
   "outputs": [
    {
     "data": {
      "text/plain": [
       "Partner                 6171\n",
       "Single/Never Married     884\n",
       "Divorced/Separated       540\n",
       "Widowed                  489\n",
       "Unknown                   40\n",
       "Name: status, dtype: int64"
      ]
     },
     "execution_count": 19,
     "metadata": {},
     "output_type": "execute_result"
    }
   ],
   "source": [
    "fullRaw['status'].value_counts()"
   ]
  },
  {
   "cell_type": "code",
   "execution_count": 20,
   "id": "89c6286a",
   "metadata": {},
   "outputs": [
    {
     "data": {
      "text/plain": [
       "Professional         1924\n",
       "Retired              1770\n",
       "Secretarial/Admin    1436\n",
       "Housewife            1025\n",
       "Business Manager      598\n",
       "Manual Worker         452\n",
       "Unknown               446\n",
       "Other                 426\n",
       "Student                47\n",
       "Name: occupation, dtype: int64"
      ]
     },
     "execution_count": 20,
     "metadata": {},
     "output_type": "execute_result"
    }
   ],
   "source": [
    "fullRaw['occupation'].value_counts()"
   ]
  },
  {
   "cell_type": "code",
   "execution_count": 126,
   "id": "860270d3",
   "metadata": {},
   "outputs": [
    {
     "data": {
      "text/plain": [
       "Unknown              1901\n",
       "Professional         1640\n",
       "Retired              1543\n",
       "Manual Worker        1231\n",
       "Business Manager      585\n",
       "Secretarial/Admin     523\n",
       "Housewife             428\n",
       "Other                 261\n",
       "Student                12\n",
       "Name: occupation_partner, dtype: int64"
      ]
     },
     "execution_count": 126,
     "metadata": {},
     "output_type": "execute_result"
    }
   ],
   "source": [
    "fullRaw['occupation_partner'].value_counts()"
   ]
  },
  {
   "cell_type": "code",
   "execution_count": 21,
   "id": "89b813b6",
   "metadata": {},
   "outputs": [
    {
     "data": {
      "text/plain": [
       "Own Home                7534\n",
       "Rent from Council/HA     257\n",
       "Rent Privately           209\n",
       "Live in Parental Hom      84\n",
       "Unclassified              40\n",
       "Name: home_status, dtype: int64"
      ]
     },
     "execution_count": 21,
     "metadata": {},
     "output_type": "execute_result"
    }
   ],
   "source": [
    "fullRaw['home_status'].value_counts()"
   ]
  },
  {
   "cell_type": "code",
   "execution_count": 22,
   "id": "492a7602",
   "metadata": {},
   "outputs": [
    {
     "data": {
      "text/plain": [
       ">=35,000             2036\n",
       "<27,500, >=25,000     978\n",
       "<30,000, >=27,500     788\n",
       "<25,000, >=22,500     676\n",
       "<20,000, >=17,500     542\n",
       "<12,500, >=10,000     536\n",
       "<17,500, >=15,000     511\n",
       "<15,000, >=12,500     497\n",
       "<22,500, >=20,000     461\n",
       "<10,000, >= 8,000     454\n",
       "< 8,000, >= 4,000     322\n",
       "< 4,000               222\n",
       "Unknown               101\n",
       "Name: family_income, dtype: int64"
      ]
     },
     "execution_count": 22,
     "metadata": {},
     "output_type": "execute_result"
    }
   ],
   "source": [
    "fullRaw['family_income'].value_counts()"
   ]
  },
  {
   "cell_type": "code",
   "execution_count": 23,
   "id": "b487f96b",
   "metadata": {},
   "outputs": [
    {
     "data": {
      "text/plain": [
       "No     7552\n",
       "Yes     572\n",
       "Name: self_employed, dtype: int64"
      ]
     },
     "execution_count": 23,
     "metadata": {},
     "output_type": "execute_result"
    }
   ],
   "source": [
    "fullRaw['self_employed'].value_counts()"
   ]
  },
  {
   "cell_type": "code",
   "execution_count": 24,
   "id": "4f93fb37",
   "metadata": {},
   "outputs": [
    {
     "data": {
      "text/plain": [
       "No     7212\n",
       "Yes     912\n",
       "Name: self_employed_partner, dtype: int64"
      ]
     },
     "execution_count": 24,
     "metadata": {},
     "output_type": "execute_result"
    }
   ],
   "source": [
    "fullRaw['self_employed_partner'].value_counts()"
   ]
  },
  {
   "cell_type": "code",
   "execution_count": 25,
   "id": "1d3a09db",
   "metadata": {},
   "outputs": [
    {
     "data": {
      "text/plain": [
       "1997    545\n",
       "1996    514\n",
       "1994    441\n",
       "1998    434\n",
       "1995    392\n",
       "1988    347\n",
       "1993    335\n",
       "1986    303\n",
       "1992    284\n",
       "1990    276\n",
       "1987    266\n",
       "1989    263\n",
       "1991    261\n",
       "1985    253\n",
       "1984    222\n",
       "1983    212\n",
       "1982    173\n",
       "1978    168\n",
       "1979    156\n",
       "1976    155\n",
       "1980    153\n",
       "1972    131\n",
       "1975    129\n",
       "1981    128\n",
       "1971    126\n",
       "1977    114\n",
       "1973    104\n",
       "1974     97\n",
       "1970     96\n",
       "1969     94\n",
       "1968     93\n",
       "1966     84\n",
       "1964     72\n",
       "1967     69\n",
       "0        66\n",
       "1965     66\n",
       "1963     54\n",
       "1999     52\n",
       "1962     50\n",
       "1960     46\n",
       "1961     39\n",
       "1958     36\n",
       "1959     28\n",
       "1957     25\n",
       "1953     17\n",
       "1956     15\n",
       "1954     14\n",
       "1955     14\n",
       "1951      9\n",
       "1950      7\n",
       "1952      7\n",
       "1942      5\n",
       "1949      5\n",
       "1935      4\n",
       "1948      4\n",
       "1907      3\n",
       "1904      3\n",
       "1910      3\n",
       "1930      3\n",
       "1946      3\n",
       "1947      3\n",
       "1939      3\n",
       "1937      3\n",
       "1928      3\n",
       "1923      3\n",
       "1905      3\n",
       "1917      2\n",
       "1919      2\n",
       "1922      2\n",
       "1912      2\n",
       "1913      2\n",
       "1943      2\n",
       "1938      2\n",
       "1931      2\n",
       "1908      2\n",
       "1932      2\n",
       "1945      2\n",
       "1936      2\n",
       "1944      1\n",
       "1901      1\n",
       "1929      1\n",
       "1920      1\n",
       "1906      1\n",
       "1941      1\n",
       "1914      1\n",
       "1903      1\n",
       "1902      1\n",
       "1909      1\n",
       "1940      1\n",
       "1921      1\n",
       "1915      1\n",
       "1916      1\n",
       "Name: year_last_moved, dtype: int64"
      ]
     },
     "execution_count": 25,
     "metadata": {},
     "output_type": "execute_result"
    }
   ],
   "source": [
    "fullRaw['year_last_moved'].value_counts()"
   ]
  },
  {
   "cell_type": "code",
   "execution_count": 76,
   "id": "cf863b30",
   "metadata": {},
   "outputs": [
    {
     "data": {
      "text/plain": [
       "Central          1287\n",
       "Carlton          1260\n",
       "Meridian          994\n",
       "Yorkshire         829\n",
       "Granada           811\n",
       "HTV               680\n",
       "Anglia            590\n",
       "Tyne Tees         435\n",
       "Scottish TV       409\n",
       "TV South West     298\n",
       "Grampian          180\n",
       "Unknown           152\n",
       "Ulster            122\n",
       "Border             77\n",
       "Name: TVarea, dtype: int64"
      ]
     },
     "execution_count": 76,
     "metadata": {},
     "output_type": "execute_result"
    }
   ],
   "source": [
    "fullRaw['TVarea'].value_counts()"
   ]
  },
  {
   "cell_type": "code",
   "execution_count": 26,
   "id": "bda9f575",
   "metadata": {},
   "outputs": [
    {
     "data": {
      "text/plain": [
       "TN12 9QF    2\n",
       "RG7 1EF     2\n",
       "YO32 3NS    2\n",
       "G64 3PL     2\n",
       "PO36 9HR    2\n",
       "           ..\n",
       "HX2 8DA     1\n",
       "RM12 6HL    1\n",
       "M15 7DY     1\n",
       "PR2 7HR     1\n",
       "B71 1RU     1\n",
       "Name: post_code, Length: 8048, dtype: int64"
      ]
     },
     "execution_count": 26,
     "metadata": {},
     "output_type": "execute_result"
    }
   ],
   "source": [
    "fullRaw['post_code'].value_counts()"
   ]
  },
  {
   "cell_type": "code",
   "execution_count": 27,
   "id": "8ee623d8",
   "metadata": {},
   "outputs": [
    {
     "data": {
      "text/plain": [
       "PR4     27\n",
       "TQ12    27\n",
       "WA7     23\n",
       "PR5     22\n",
       "M12     21\n",
       "        ..\n",
       "AB15     1\n",
       "FK15     1\n",
       "BN17     1\n",
       "ST3      1\n",
       "ME4      1\n",
       "Name: post_area, Length: 1956, dtype: int64"
      ]
     },
     "execution_count": 27,
     "metadata": {},
     "output_type": "execute_result"
    }
   ],
   "source": [
    "fullRaw['post_area'].value_counts()"
   ]
  },
  {
   "cell_type": "code",
   "execution_count": 79,
   "id": "763778bf",
   "metadata": {},
   "outputs": [
    {
     "data": {
      "text/plain": [
       "2    7261\n",
       "1     863\n",
       "Name: Revenue.Grid, dtype: int64"
      ]
     },
     "execution_count": 79,
     "metadata": {},
     "output_type": "execute_result"
    }
   ],
   "source": [
    "fullRaw['Revenue.Grid'].value_counts()"
   ]
  },
  {
   "cell_type": "code",
   "execution_count": 29,
   "id": "d506aa69",
   "metadata": {},
   "outputs": [
    {
     "data": {
      "text/plain": [
       "2    0.893772\n",
       "1    0.106228\n",
       "Name: Revenue.Grid, dtype: float64"
      ]
     },
     "execution_count": 29,
     "metadata": {},
     "output_type": "execute_result"
    }
   ],
   "source": [
    "fullRaw['Revenue.Grid'].value_counts()/fullRaw.shape[0]"
   ]
  },
  {
   "cell_type": "code",
   "execution_count": 30,
   "id": "2479c39e",
   "metadata": {},
   "outputs": [
    {
     "data": {
      "text/plain": [
       "South East          1707\n",
       "North West          1495\n",
       "Unknown              865\n",
       "South West           789\n",
       "West Midlands        663\n",
       "Scotland             623\n",
       "East Midlands        597\n",
       "North                460\n",
       "Wales                451\n",
       "East Anglia          334\n",
       "Northern Ireland     122\n",
       "Isle of Man           14\n",
       "Channel Islands        4\n",
       "Name: region, dtype: int64"
      ]
     },
     "execution_count": 30,
     "metadata": {},
     "output_type": "execute_result"
    }
   ],
   "source": [
    "fullRaw['region'].value_counts()"
   ]
  },
  {
   "cell_type": "markdown",
   "id": "3d845596",
   "metadata": {},
   "source": [
    "# Label Encoding"
   ]
  },
  {
   "cell_type": "code",
   "execution_count": 31,
   "id": "f53c4b60",
   "metadata": {},
   "outputs": [],
   "source": [
    "#Family Income\n",
    "\n",
    "fullRaw['family_income'].replace(to_replace='>=35,000',value=4,inplace=True)\n",
    "fullRaw['family_income'].replace(to_replace=['< 8,000, >= 4,000','<10,000, >= 8,000'],value=[1,1],inplace=True)\n",
    "fullRaw ['family_income'].replace(to_replace=['<12,500, >=10,000','<15,000, >=12,500','<17,500, >=15,000','<20,000, >=17,500'],value=[2,2,2,2],inplace=True)\n",
    "fullRaw['family_income'].replace(to_replace=['<22,500, >=20,000','<25,000, >=22,500','<27,500, >=25,000','<30,000, >=27,500'],value=[3,3,3,3],inplace=True)\n",
    "fullRaw['family_income'].replace(to_replace=['< 4,000'],value=[0],inplace=True)\n",
    "fullRaw['family_income'].replace(to_replace=['Unknown'],value=[5],inplace=True)"
   ]
  },
  {
   "cell_type": "code",
   "execution_count": 32,
   "id": "bc1e3693",
   "metadata": {},
   "outputs": [],
   "source": [
    "#Gender\n",
    "\n",
    "fullRaw['gender'].replace(to_replace=['Male','Female','Unknown'],value=[1,2,0],inplace=True)"
   ]
  },
  {
   "cell_type": "code",
   "execution_count": 33,
   "id": "1eb68bdf",
   "metadata": {},
   "outputs": [],
   "source": [
    "#Age_Band\n",
    "\n",
    "fullRaw['age_band'].replace(to_replace=['18-21','22-25','26-30'],value=[1,1,1],inplace=True)\n",
    "fullRaw['age_band'].replace(to_replace=['31-35','36-40'],value=[2,2],inplace=True)\n",
    "fullRaw['age_band'].replace(to_replace=['41-45','45-50'],value=[3,3],inplace=True)\n",
    "fullRaw['age_band'].replace(to_replace=['51-55','55-60'],value=[4,4],inplace=True)\n",
    "fullRaw['age_band'].replace(to_replace=['61-65','65-70'],value=[5,5],inplace=True)\n",
    "fullRaw['age_band'].replace(to_replace='71+',value=6,inplace=True)\n",
    "fullRaw['age_band'].replace(to_replace='Unknown',value=0,inplace=True)"
   ]
  },
  {
   "cell_type": "code",
   "execution_count": 34,
   "id": "19e9adca",
   "metadata": {},
   "outputs": [],
   "source": [
    "from sklearn import preprocessing\n",
    "label_encoder=preprocessing.LabelEncoder()"
   ]
  },
  {
   "cell_type": "code",
   "execution_count": 36,
   "id": "2d417d06",
   "metadata": {},
   "outputs": [],
   "source": [
    "#Status\n",
    "fullRaw['status']=label_encoder.fit_transform(fullRaw['status'])"
   ]
  },
  {
   "cell_type": "code",
   "execution_count": 37,
   "id": "cd3d75ed",
   "metadata": {},
   "outputs": [],
   "source": [
    "#Occupation\n",
    "fullRaw['occupation']=label_encoder.fit_transform(fullRaw['occupation'])"
   ]
  },
  {
   "cell_type": "code",
   "execution_count": 38,
   "id": "b083a2aa",
   "metadata": {},
   "outputs": [
    {
     "name": "stdout",
     "output_type": "stream",
     "text": [
      "['children', 'occupation_partner', 'home_status', 'self_employed', 'self_employed_partner', 'TVarea', 'post_code', 'post_area', 'region', 'Source']\n"
     ]
    },
    {
     "ename": "ValueError",
     "evalue": "list.remove(x): x not in list",
     "output_type": "error",
     "traceback": [
      "\u001b[1;31m---------------------------------------------------------------------------\u001b[0m",
      "\u001b[1;31mValueError\u001b[0m                                Traceback (most recent call last)",
      "Input \u001b[1;32mIn [38]\u001b[0m, in \u001b[0;36m<cell line: 10>\u001b[1;34m()\u001b[0m\n\u001b[0;32m      8\u001b[0m q\u001b[38;5;241m.\u001b[39mremove(\u001b[38;5;124m'\u001b[39m\u001b[38;5;124mpost_area\u001b[39m\u001b[38;5;124m'\u001b[39m)\n\u001b[0;32m      9\u001b[0m q\u001b[38;5;241m.\u001b[39mremove(\u001b[38;5;124m'\u001b[39m\u001b[38;5;124mpost_code\u001b[39m\u001b[38;5;124m'\u001b[39m)\n\u001b[1;32m---> 10\u001b[0m \u001b[43mq\u001b[49m\u001b[38;5;241;43m.\u001b[39;49m\u001b[43mremove\u001b[49m\u001b[43m(\u001b[49m\u001b[38;5;124;43m'\u001b[39;49m\u001b[38;5;124;43mage_band\u001b[39;49m\u001b[38;5;124;43m'\u001b[39;49m\u001b[43m)\u001b[49m\n\u001b[0;32m     11\u001b[0m q\u001b[38;5;241m.\u001b[39mremove(\u001b[38;5;124m'\u001b[39m\u001b[38;5;124mfamily_income\u001b[39m\u001b[38;5;124m'\u001b[39m)\n\u001b[0;32m     12\u001b[0m \u001b[38;5;28mlen\u001b[39m(q)\n",
      "\u001b[1;31mValueError\u001b[0m: list.remove(x): x not in list"
     ]
    }
   ],
   "source": [
    "q=[]\n",
    "for i in fullRaw.columns:\n",
    "    if fullRaw[i].dtypes=='object':\n",
    "        q.append(i)\n",
    "print(q)\n",
    "len(q)\n",
    "\n",
    "q.remove('post_area')\n",
    "q.remove('post_code')\n",
    "q.remove('age_band')\n",
    "q.remove('family_income')\n",
    "len(q)"
   ]
  },
  {
   "cell_type": "code",
   "execution_count": 39,
   "id": "3b0e66a7",
   "metadata": {},
   "outputs": [],
   "source": [
    "l=q"
   ]
  },
  {
   "cell_type": "code",
   "execution_count": 40,
   "id": "07289392",
   "metadata": {},
   "outputs": [
    {
     "name": "stdout",
     "output_type": "stream",
     "text": [
      "children\n",
      "occupation_partner\n",
      "home_status\n",
      "self_employed\n",
      "self_employed_partner\n",
      "TVarea\n",
      "region\n",
      "Source\n"
     ]
    }
   ],
   "source": [
    "for i in l:\n",
    "    fullRaw[i]=label_encoder.fit_transform(fullRaw[i])\n",
    "    print(i)"
   ]
  },
  {
   "cell_type": "markdown",
   "id": "0815a334",
   "metadata": {},
   "source": [
    "# Data Dictionary"
   ]
  },
  {
   "cell_type": "code",
   "execution_count": 41,
   "id": "d5539ef5",
   "metadata": {},
   "outputs": [
    {
     "data": {
      "text/plain": [
       "'Age_band\\n18-30     1\\n31-40     2\\n41-50     3\\n51-60     4\\n61-70     5\\n70+       6\\nUnknown   0\\n'"
      ]
     },
     "execution_count": 41,
     "metadata": {},
     "output_type": "execute_result"
    }
   ],
   "source": [
    "'''Status\n",
    "Partner                   1\n",
    "Single/Never Married      2\n",
    "Divorced/Separated        0\n",
    "Widowed                   4\n",
    "Unknown                   3'''\n",
    "\n",
    "'''Region\n",
    "South East           8\n",
    "North West           5\n",
    "Unknown              10\n",
    "South West           9\n",
    "West Midlands        12\n",
    "Scotland             7\n",
    "East Midlands        2\n",
    "North                4\n",
    "Wales                11\n",
    "East Anglia          1\n",
    "Northern Ireland     6\n",
    "Isle of Man          3\n",
    "Channel Islands      0'''\n",
    "\n",
    "'''Professional      4\n",
    "Retired              5\n",
    "Secretarial/Admin    6\n",
    "Housewife            1\n",
    "Business Manager     0\n",
    "Manual Worker        2\n",
    "Unknown              8\n",
    "Other                3\n",
    "Student              7'''\n",
    "\n",
    "'''TV area\n",
    "Central           3\n",
    "Carlton           2\n",
    "Meridian          7\n",
    "Yorkshire         13\n",
    "Granada           5\n",
    "HTV               6\n",
    "Anglia            0\n",
    "Tyne Tees         10\n",
    "Scottish TV       8\n",
    "TV South West     9\n",
    "Grampian          4\n",
    "Unknown           12\n",
    "Ulster            11\n",
    "Border            1'''\n",
    "\n",
    "'''self_employed\n",
    "No     0\n",
    "Yes    1'''\n",
    "\n",
    "'''self_employed_partner\n",
    "No     0\n",
    "Yes    1'''\n",
    "\n",
    "'''home_status\n",
    "Own Home                 1\n",
    "Rent from Council/HA     3\n",
    "Rent Privately           2\n",
    "Live in Parental Hom     0\n",
    "Unclassified             4'''\n",
    "\n",
    "'''occupation\n",
    "Professional         4\n",
    "Retired              5\n",
    "Secretarial/Admin    6\n",
    "Housewife            1\n",
    "Business Manager     0\n",
    "Manual Worker        2\n",
    "Unknown              8\n",
    "Other                3\n",
    "Student              7'''\n",
    "\n",
    "'''occupation_partner\n",
    "Unknown              8\n",
    "Professional         4\n",
    "Retired              5\n",
    "Manual Worker        2\n",
    "Business Manager     0\n",
    "Secretarial/Admin    6\n",
    "Housewife            1\n",
    "Other                3\n",
    "Student              7'''\n",
    "\n",
    "'''children\n",
    "Zero    4\n",
    "1       0\n",
    "2       1\n",
    "3       2\n",
    "4+      3'''\n",
    "\n",
    "'''Gender\n",
    "Female    2\n",
    "Male      1\n",
    "Unknown   0'''\n",
    "\n",
    "'''family_income\n",
    "<4,000            0\n",
    "<10,000,>=4,000   1\n",
    "<20,000,>=10,000  2\n",
    "<30,000,>=20,000  3\n",
    ">=35,000          4\n",
    "Unknown           5\n",
    "'''\n",
    "'''Age_band\n",
    "18-30     1\n",
    "31-40     2\n",
    "41-50     3\n",
    "51-60     4\n",
    "61-70     5\n",
    "70+       6\n",
    "Unknown   0\n",
    "'''"
   ]
  },
  {
   "cell_type": "code",
   "execution_count": 42,
   "id": "6d99fcdc",
   "metadata": {
    "scrolled": true
   },
   "outputs": [
    {
     "data": {
      "text/html": [
       "<div>\n",
       "<style scoped>\n",
       "    .dataframe tbody tr th:only-of-type {\n",
       "        vertical-align: middle;\n",
       "    }\n",
       "\n",
       "    .dataframe tbody tr th {\n",
       "        vertical-align: top;\n",
       "    }\n",
       "\n",
       "    .dataframe thead th {\n",
       "        text-align: right;\n",
       "    }\n",
       "</style>\n",
       "<table border=\"1\" class=\"dataframe\">\n",
       "  <thead>\n",
       "    <tr style=\"text-align: right;\">\n",
       "      <th></th>\n",
       "      <th>REF_NO</th>\n",
       "      <th>children</th>\n",
       "      <th>age_band</th>\n",
       "      <th>status</th>\n",
       "      <th>occupation</th>\n",
       "      <th>occupation_partner</th>\n",
       "      <th>home_status</th>\n",
       "      <th>family_income</th>\n",
       "      <th>self_employed</th>\n",
       "      <th>self_employed_partner</th>\n",
       "      <th>year_last_moved</th>\n",
       "      <th>TVarea</th>\n",
       "      <th>post_code</th>\n",
       "      <th>post_area</th>\n",
       "      <th>Average.Credit.Card.Transaction</th>\n",
       "      <th>Balance.Transfer</th>\n",
       "      <th>Term.Deposit</th>\n",
       "      <th>Life.Insurance</th>\n",
       "      <th>Medical.Insurance</th>\n",
       "      <th>Average.A.C.Balance</th>\n",
       "      <th>Personal.Loan</th>\n",
       "      <th>Investment.in.Mutual.Fund</th>\n",
       "      <th>Investment.Tax.Saving.Bond</th>\n",
       "      <th>Home.Loan</th>\n",
       "      <th>Online.Purchase.Amount</th>\n",
       "      <th>Revenue.Grid</th>\n",
       "      <th>gender</th>\n",
       "      <th>region</th>\n",
       "      <th>Investment.in.Commudity</th>\n",
       "      <th>Investment.in.Equity</th>\n",
       "      <th>Investment.in.Derivative</th>\n",
       "      <th>Portfolio.Balance</th>\n",
       "      <th>Source</th>\n",
       "    </tr>\n",
       "  </thead>\n",
       "  <tbody>\n",
       "    <tr>\n",
       "      <th>5316</th>\n",
       "      <td>1685</td>\n",
       "      <td>4</td>\n",
       "      <td>4</td>\n",
       "      <td>1</td>\n",
       "      <td>1</td>\n",
       "      <td>2</td>\n",
       "      <td>1</td>\n",
       "      <td>3</td>\n",
       "      <td>0</td>\n",
       "      <td>0</td>\n",
       "      <td>1996</td>\n",
       "      <td>0</td>\n",
       "      <td>CB9 9HF</td>\n",
       "      <td>CB9</td>\n",
       "      <td>74.97</td>\n",
       "      <td>0.00</td>\n",
       "      <td>79.96</td>\n",
       "      <td>22.99</td>\n",
       "      <td>15.49</td>\n",
       "      <td>24.99</td>\n",
       "      <td>0.00</td>\n",
       "      <td>11.99</td>\n",
       "      <td>14.48</td>\n",
       "      <td>0.00</td>\n",
       "      <td>0.0</td>\n",
       "      <td>2</td>\n",
       "      <td>2</td>\n",
       "      <td>1</td>\n",
       "      <td>38.68</td>\n",
       "      <td>8.58</td>\n",
       "      <td>14.99</td>\n",
       "      <td>59.07</td>\n",
       "      <td>1</td>\n",
       "    </tr>\n",
       "    <tr>\n",
       "      <th>1073</th>\n",
       "      <td>1612</td>\n",
       "      <td>0</td>\n",
       "      <td>2</td>\n",
       "      <td>1</td>\n",
       "      <td>6</td>\n",
       "      <td>4</td>\n",
       "      <td>1</td>\n",
       "      <td>4</td>\n",
       "      <td>0</td>\n",
       "      <td>0</td>\n",
       "      <td>1982</td>\n",
       "      <td>3</td>\n",
       "      <td>NG25 0BJ</td>\n",
       "      <td>NG25</td>\n",
       "      <td>0.00</td>\n",
       "      <td>0.00</td>\n",
       "      <td>32.28</td>\n",
       "      <td>126.93</td>\n",
       "      <td>34.95</td>\n",
       "      <td>59.98</td>\n",
       "      <td>36.97</td>\n",
       "      <td>15.99</td>\n",
       "      <td>0.00</td>\n",
       "      <td>0.00</td>\n",
       "      <td>0.0</td>\n",
       "      <td>2</td>\n",
       "      <td>2</td>\n",
       "      <td>2</td>\n",
       "      <td>38.83</td>\n",
       "      <td>18.82</td>\n",
       "      <td>45.80</td>\n",
       "      <td>112.32</td>\n",
       "      <td>1</td>\n",
       "    </tr>\n",
       "    <tr>\n",
       "      <th>7552</th>\n",
       "      <td>7750</td>\n",
       "      <td>0</td>\n",
       "      <td>2</td>\n",
       "      <td>1</td>\n",
       "      <td>3</td>\n",
       "      <td>0</td>\n",
       "      <td>1</td>\n",
       "      <td>3</td>\n",
       "      <td>0</td>\n",
       "      <td>0</td>\n",
       "      <td>1968</td>\n",
       "      <td>13</td>\n",
       "      <td>S32 4TS</td>\n",
       "      <td>S32</td>\n",
       "      <td>0.00</td>\n",
       "      <td>153.95</td>\n",
       "      <td>0.00</td>\n",
       "      <td>276.37</td>\n",
       "      <td>24.99</td>\n",
       "      <td>172.87</td>\n",
       "      <td>20.98</td>\n",
       "      <td>71.93</td>\n",
       "      <td>0.00</td>\n",
       "      <td>11.99</td>\n",
       "      <td>0.0</td>\n",
       "      <td>2</td>\n",
       "      <td>2</td>\n",
       "      <td>2</td>\n",
       "      <td>91.06</td>\n",
       "      <td>46.30</td>\n",
       "      <td>94.52</td>\n",
       "      <td>184.96</td>\n",
       "      <td>1</td>\n",
       "    </tr>\n",
       "    <tr>\n",
       "      <th>3372</th>\n",
       "      <td>3840</td>\n",
       "      <td>4</td>\n",
       "      <td>0</td>\n",
       "      <td>3</td>\n",
       "      <td>8</td>\n",
       "      <td>8</td>\n",
       "      <td>4</td>\n",
       "      <td>5</td>\n",
       "      <td>0</td>\n",
       "      <td>0</td>\n",
       "      <td>0</td>\n",
       "      <td>8</td>\n",
       "      <td>KA30 8LB</td>\n",
       "      <td>KA30</td>\n",
       "      <td>0.00</td>\n",
       "      <td>0.00</td>\n",
       "      <td>29.99</td>\n",
       "      <td>0.00</td>\n",
       "      <td>0.00</td>\n",
       "      <td>0.00</td>\n",
       "      <td>0.00</td>\n",
       "      <td>0.00</td>\n",
       "      <td>0.00</td>\n",
       "      <td>0.00</td>\n",
       "      <td>0.0</td>\n",
       "      <td>2</td>\n",
       "      <td>2</td>\n",
       "      <td>7</td>\n",
       "      <td>6.00</td>\n",
       "      <td>0.00</td>\n",
       "      <td>0.00</td>\n",
       "      <td>5.92</td>\n",
       "      <td>1</td>\n",
       "    </tr>\n",
       "    <tr>\n",
       "      <th>1207</th>\n",
       "      <td>6293</td>\n",
       "      <td>4</td>\n",
       "      <td>2</td>\n",
       "      <td>2</td>\n",
       "      <td>6</td>\n",
       "      <td>8</td>\n",
       "      <td>1</td>\n",
       "      <td>3</td>\n",
       "      <td>0</td>\n",
       "      <td>0</td>\n",
       "      <td>1978</td>\n",
       "      <td>10</td>\n",
       "      <td>TS22 5AX</td>\n",
       "      <td>TS22</td>\n",
       "      <td>6.99</td>\n",
       "      <td>0.00</td>\n",
       "      <td>0.00</td>\n",
       "      <td>40.96</td>\n",
       "      <td>0.00</td>\n",
       "      <td>7.99</td>\n",
       "      <td>0.00</td>\n",
       "      <td>13.49</td>\n",
       "      <td>3.49</td>\n",
       "      <td>1.49</td>\n",
       "      <td>0.0</td>\n",
       "      <td>2</td>\n",
       "      <td>2</td>\n",
       "      <td>4</td>\n",
       "      <td>9.59</td>\n",
       "      <td>4.41</td>\n",
       "      <td>10.99</td>\n",
       "      <td>1.29</td>\n",
       "      <td>1</td>\n",
       "    </tr>\n",
       "  </tbody>\n",
       "</table>\n",
       "</div>"
      ],
      "text/plain": [
       "      REF_NO  children  age_band  status  occupation  occupation_partner  home_status  family_income  self_employed  self_employed_partner  year_last_moved  TVarea post_code post_area  Average.Credit.Card.Transaction  Balance.Transfer  Term.Deposit  Life.Insurance  Medical.Insurance  Average.A.C.Balance  Personal.Loan  Investment.in.Mutual.Fund  Investment.Tax.Saving.Bond  Home.Loan  Online.Purchase.Amount  Revenue.Grid  gender  region  Investment.in.Commudity  Investment.in.Equity  Investment.in.Derivative  Portfolio.Balance  Source\n",
       "5316    1685         4         4       1           1                   2            1              3              0                      0             1996       0   CB9 9HF       CB9                            74.97              0.00         79.96           22.99              15.49                24.99           0.00                      11.99                       14.48       0.00                     0.0             2       2       1                    38.68                  8.58                     14.99              59.07       1\n",
       "1073    1612         0         2       1           6                   4            1              4              0                      0             1982       3  NG25 0BJ      NG25                             0.00              0.00         32.28          126.93              34.95                59.98          36.97                      15.99                        0.00       0.00                     0.0             2       2       2                    38.83                 18.82                     45.80             112.32       1\n",
       "7552    7750         0         2       1           3                   0            1              3              0                      0             1968      13   S32 4TS       S32                             0.00            153.95          0.00          276.37              24.99               172.87          20.98                      71.93                        0.00      11.99                     0.0             2       2       2                    91.06                 46.30                     94.52             184.96       1\n",
       "3372    3840         4         0       3           8                   8            4              5              0                      0                0       8  KA30 8LB      KA30                             0.00              0.00         29.99            0.00               0.00                 0.00           0.00                       0.00                        0.00       0.00                     0.0             2       2       7                     6.00                  0.00                      0.00               5.92       1\n",
       "1207    6293         4         2       2           6                   8            1              3              0                      0             1978      10  TS22 5AX      TS22                             6.99              0.00          0.00           40.96               0.00                 7.99           0.00                      13.49                        3.49       1.49                     0.0             2       2       4                     9.59                  4.41                     10.99               1.29       1"
      ]
     },
     "execution_count": 42,
     "metadata": {},
     "output_type": "execute_result"
    }
   ],
   "source": [
    "fullRaw.head()"
   ]
  },
  {
   "cell_type": "code",
   "execution_count": 43,
   "id": "64b94c2e",
   "metadata": {},
   "outputs": [],
   "source": [
    "postal=[i[:2] for i in fullRaw['post_area']]"
   ]
  },
  {
   "cell_type": "code",
   "execution_count": 44,
   "id": "46385ad5",
   "metadata": {},
   "outputs": [],
   "source": [
    "postal=pd.Series(postal)"
   ]
  },
  {
   "cell_type": "code",
   "execution_count": 45,
   "id": "ec2c676d",
   "metadata": {},
   "outputs": [
    {
     "data": {
      "text/plain": [
       "WA    193\n",
       "PR    179\n",
       "SA    166\n",
       "NG    164\n",
       "CF    154\n",
       "L1    143\n",
       "NE    143\n",
       "LE    141\n",
       "TS    138\n",
       "BT    122\n",
       "M1    119\n",
       "DN    114\n",
       "NR    112\n",
       "CV    112\n",
       "BS    112\n",
       "YO    108\n",
       "PE    107\n",
       "GL    107\n",
       "IP    104\n",
       "EX    100\n",
       "GU     99\n",
       "DY     96\n",
       "LL     94\n",
       "RG     92\n",
       "DE     92\n",
       "BH     91\n",
       "PO     88\n",
       "WF     87\n",
       "TQ     86\n",
       "CH     86\n",
       "NP     85\n",
       "BD     83\n",
       "M2     83\n",
       "EH     82\n",
       "LS     82\n",
       "AB     77\n",
       "MK     74\n",
       "M3     74\n",
       "L3     71\n",
       "NN     71\n",
       "B9     69\n",
       "BA     68\n",
       "KT     67\n",
       "L2     67\n",
       "TN     66\n",
       "CT     65\n",
       "LA     64\n",
       "CM     64\n",
       "ST     63\n",
       "ME     63\n",
       "OL     62\n",
       "KY     61\n",
       "EN     59\n",
       "SO     58\n",
       "SS     58\n",
       "BB     58\n",
       "RH     57\n",
       "BN     56\n",
       "CO     56\n",
       "B7     56\n",
       "TA     55\n",
       "HA     55\n",
       "M4     52\n",
       "DA     52\n",
       "HP     52\n",
       "RM     52\n",
       "KA     51\n",
       "DL     49\n",
       "HU     49\n",
       "HD     49\n",
       "CB     48\n",
       "PA     48\n",
       "IG     47\n",
       "SL     46\n",
       "CW     46\n",
       "OX     46\n",
       "SN     46\n",
       "WR     44\n",
       "G6     44\n",
       "BL     44\n",
       "DH     42\n",
       "TR     41\n",
       "S4     40\n",
       "FK     40\n",
       "AL     39\n",
       "B6     39\n",
       "TW     39\n",
       "DT     39\n",
       "G7     39\n",
       "CA     38\n",
       "WS     38\n",
       "ML     38\n",
       "S6     38\n",
       "PL     37\n",
       "SY     37\n",
       "L4     36\n",
       "WN     35\n",
       "IV     34\n",
       "WD     34\n",
       "CR     34\n",
       "SK     33\n",
       "WV     33\n",
       "HX     33\n",
       "LN     32\n",
       "FY     31\n",
       "SP     30\n",
       "SM     29\n",
       "TF     29\n",
       "HG     28\n",
       "LU     26\n",
       "SW     24\n",
       "UB     24\n",
       "HR     24\n",
       "S2     23\n",
       "S3     21\n",
       "PH     21\n",
       "SR     20\n",
       "DG     20\n",
       "S7     20\n",
       "M5     19\n",
       "DD     18\n",
       "L8     17\n",
       "M6     16\n",
       "E1     15\n",
       "L5     15\n",
       "L6     15\n",
       "B4     14\n",
       "NW     14\n",
       "IM     14\n",
       "TD     13\n",
       "G4     13\n",
       "SE     12\n",
       "N1     12\n",
       "M7     10\n",
       "S8     10\n",
       "M8      9\n",
       "S1      9\n",
       "L9      9\n",
       "KW      9\n",
       "L7      8\n",
       "B2      7\n",
       "G8      7\n",
       "ZE      6\n",
       "N2      6\n",
       "M9      4\n",
       "B1      3\n",
       "JE      3\n",
       "W1      3\n",
       "G3      3\n",
       "B3      2\n",
       "LD      2\n",
       "GY      1\n",
       "L0      1\n",
       "WC      1\n",
       "HS      1\n",
       "EC      1\n",
       "G1      1\n",
       "dtype: int64"
      ]
     },
     "execution_count": 45,
     "metadata": {},
     "output_type": "execute_result"
    }
   ],
   "source": [
    "postal.value_counts()"
   ]
  },
  {
   "cell_type": "code",
   "execution_count": 95,
   "id": "0efb4780",
   "metadata": {},
   "outputs": [
    {
     "data": {
      "text/plain": [
       "array([[1685, 4, 4, ..., 14.99, 59.07, 1],\n",
       "       [1612, 0, 2, ..., 45.8, 112.32, 1],\n",
       "       [7750, 0, 2, ..., 94.52, 184.96, 1],\n",
       "       ...,\n",
       "       [5679, 4, 5, ..., 8.25, -2.53, 0],\n",
       "       [5683, 4, 4, ..., 91.9, 266.22, 0],\n",
       "       [8447, 4, 4, ..., 30.15, 27.64, 0]], dtype=object)"
      ]
     },
     "execution_count": 95,
     "metadata": {},
     "output_type": "execute_result"
    }
   ],
   "source": [
    "fullRaw.values"
   ]
  },
  {
   "cell_type": "code",
   "execution_count": 53,
   "id": "6031bd62",
   "metadata": {},
   "outputs": [
    {
     "ename": "KeyError",
     "evalue": "\"['Revenue.Grid'] not found in axis\"",
     "output_type": "error",
     "traceback": [
      "\u001b[1;31m---------------------------------------------------------------------------\u001b[0m",
      "\u001b[1;31mKeyError\u001b[0m                                  Traceback (most recent call last)",
      "Input \u001b[1;32mIn [53]\u001b[0m, in \u001b[0;36m<cell line: 2>\u001b[1;34m()\u001b[0m\n\u001b[0;32m      1\u001b[0m fullRaw2\u001b[38;5;241m=\u001b[39mfullRaw\u001b[38;5;241m.\u001b[39mcopy()\n\u001b[1;32m----> 2\u001b[0m \u001b[43mfullRaw2\u001b[49m\u001b[38;5;241;43m.\u001b[39;49m\u001b[43mdrop\u001b[49m\u001b[43m(\u001b[49m\u001b[43m[\u001b[49m\u001b[38;5;124;43m'\u001b[39;49m\u001b[38;5;124;43mRevenue.Grid\u001b[39;49m\u001b[38;5;124;43m'\u001b[39;49m\u001b[43m]\u001b[49m\u001b[43m,\u001b[49m\u001b[43maxis\u001b[49m\u001b[38;5;241;43m=\u001b[39;49m\u001b[38;5;241;43m1\u001b[39;49m\u001b[43m,\u001b[49m\u001b[43minplace\u001b[49m\u001b[38;5;241;43m=\u001b[39;49m\u001b[38;5;28;43;01mTrue\u001b[39;49;00m\u001b[43m)\u001b[49m\n\u001b[0;32m      3\u001b[0m fullRaw2\u001b[38;5;241m.\u001b[39mhead()\n\u001b[0;32m      4\u001b[0m fullRaw2\u001b[38;5;241m.\u001b[39mshape\n",
      "File \u001b[1;32mC:\\ProgramData\\Anaconda3\\lib\\site-packages\\pandas\\util\\_decorators.py:311\u001b[0m, in \u001b[0;36mdeprecate_nonkeyword_arguments.<locals>.decorate.<locals>.wrapper\u001b[1;34m(*args, **kwargs)\u001b[0m\n\u001b[0;32m    305\u001b[0m \u001b[38;5;28;01mif\u001b[39;00m \u001b[38;5;28mlen\u001b[39m(args) \u001b[38;5;241m>\u001b[39m num_allow_args:\n\u001b[0;32m    306\u001b[0m     warnings\u001b[38;5;241m.\u001b[39mwarn(\n\u001b[0;32m    307\u001b[0m         msg\u001b[38;5;241m.\u001b[39mformat(arguments\u001b[38;5;241m=\u001b[39marguments),\n\u001b[0;32m    308\u001b[0m         \u001b[38;5;167;01mFutureWarning\u001b[39;00m,\n\u001b[0;32m    309\u001b[0m         stacklevel\u001b[38;5;241m=\u001b[39mstacklevel,\n\u001b[0;32m    310\u001b[0m     )\n\u001b[1;32m--> 311\u001b[0m \u001b[38;5;28;01mreturn\u001b[39;00m func(\u001b[38;5;241m*\u001b[39margs, \u001b[38;5;241m*\u001b[39m\u001b[38;5;241m*\u001b[39mkwargs)\n",
      "File \u001b[1;32mC:\\ProgramData\\Anaconda3\\lib\\site-packages\\pandas\\core\\frame.py:4954\u001b[0m, in \u001b[0;36mDataFrame.drop\u001b[1;34m(self, labels, axis, index, columns, level, inplace, errors)\u001b[0m\n\u001b[0;32m   4806\u001b[0m \u001b[38;5;129m@deprecate_nonkeyword_arguments\u001b[39m(version\u001b[38;5;241m=\u001b[39m\u001b[38;5;28;01mNone\u001b[39;00m, allowed_args\u001b[38;5;241m=\u001b[39m[\u001b[38;5;124m\"\u001b[39m\u001b[38;5;124mself\u001b[39m\u001b[38;5;124m\"\u001b[39m, \u001b[38;5;124m\"\u001b[39m\u001b[38;5;124mlabels\u001b[39m\u001b[38;5;124m\"\u001b[39m])\n\u001b[0;32m   4807\u001b[0m \u001b[38;5;28;01mdef\u001b[39;00m \u001b[38;5;21mdrop\u001b[39m(\n\u001b[0;32m   4808\u001b[0m     \u001b[38;5;28mself\u001b[39m,\n\u001b[1;32m   (...)\u001b[0m\n\u001b[0;32m   4815\u001b[0m     errors: \u001b[38;5;28mstr\u001b[39m \u001b[38;5;241m=\u001b[39m \u001b[38;5;124m\"\u001b[39m\u001b[38;5;124mraise\u001b[39m\u001b[38;5;124m\"\u001b[39m,\n\u001b[0;32m   4816\u001b[0m ):\n\u001b[0;32m   4817\u001b[0m     \u001b[38;5;124;03m\"\"\"\u001b[39;00m\n\u001b[0;32m   4818\u001b[0m \u001b[38;5;124;03m    Drop specified labels from rows or columns.\u001b[39;00m\n\u001b[0;32m   4819\u001b[0m \n\u001b[1;32m   (...)\u001b[0m\n\u001b[0;32m   4952\u001b[0m \u001b[38;5;124;03m            weight  1.0     0.8\u001b[39;00m\n\u001b[0;32m   4953\u001b[0m \u001b[38;5;124;03m    \"\"\"\u001b[39;00m\n\u001b[1;32m-> 4954\u001b[0m     \u001b[38;5;28;01mreturn\u001b[39;00m \u001b[38;5;28;43msuper\u001b[39;49m\u001b[43m(\u001b[49m\u001b[43m)\u001b[49m\u001b[38;5;241;43m.\u001b[39;49m\u001b[43mdrop\u001b[49m\u001b[43m(\u001b[49m\n\u001b[0;32m   4955\u001b[0m \u001b[43m        \u001b[49m\u001b[43mlabels\u001b[49m\u001b[38;5;241;43m=\u001b[39;49m\u001b[43mlabels\u001b[49m\u001b[43m,\u001b[49m\n\u001b[0;32m   4956\u001b[0m \u001b[43m        \u001b[49m\u001b[43maxis\u001b[49m\u001b[38;5;241;43m=\u001b[39;49m\u001b[43maxis\u001b[49m\u001b[43m,\u001b[49m\n\u001b[0;32m   4957\u001b[0m \u001b[43m        \u001b[49m\u001b[43mindex\u001b[49m\u001b[38;5;241;43m=\u001b[39;49m\u001b[43mindex\u001b[49m\u001b[43m,\u001b[49m\n\u001b[0;32m   4958\u001b[0m \u001b[43m        \u001b[49m\u001b[43mcolumns\u001b[49m\u001b[38;5;241;43m=\u001b[39;49m\u001b[43mcolumns\u001b[49m\u001b[43m,\u001b[49m\n\u001b[0;32m   4959\u001b[0m \u001b[43m        \u001b[49m\u001b[43mlevel\u001b[49m\u001b[38;5;241;43m=\u001b[39;49m\u001b[43mlevel\u001b[49m\u001b[43m,\u001b[49m\n\u001b[0;32m   4960\u001b[0m \u001b[43m        \u001b[49m\u001b[43minplace\u001b[49m\u001b[38;5;241;43m=\u001b[39;49m\u001b[43minplace\u001b[49m\u001b[43m,\u001b[49m\n\u001b[0;32m   4961\u001b[0m \u001b[43m        \u001b[49m\u001b[43merrors\u001b[49m\u001b[38;5;241;43m=\u001b[39;49m\u001b[43merrors\u001b[49m\u001b[43m,\u001b[49m\n\u001b[0;32m   4962\u001b[0m \u001b[43m    \u001b[49m\u001b[43m)\u001b[49m\n",
      "File \u001b[1;32mC:\\ProgramData\\Anaconda3\\lib\\site-packages\\pandas\\core\\generic.py:4267\u001b[0m, in \u001b[0;36mNDFrame.drop\u001b[1;34m(self, labels, axis, index, columns, level, inplace, errors)\u001b[0m\n\u001b[0;32m   4265\u001b[0m \u001b[38;5;28;01mfor\u001b[39;00m axis, labels \u001b[38;5;129;01min\u001b[39;00m axes\u001b[38;5;241m.\u001b[39mitems():\n\u001b[0;32m   4266\u001b[0m     \u001b[38;5;28;01mif\u001b[39;00m labels \u001b[38;5;129;01mis\u001b[39;00m \u001b[38;5;129;01mnot\u001b[39;00m \u001b[38;5;28;01mNone\u001b[39;00m:\n\u001b[1;32m-> 4267\u001b[0m         obj \u001b[38;5;241m=\u001b[39m \u001b[43mobj\u001b[49m\u001b[38;5;241;43m.\u001b[39;49m\u001b[43m_drop_axis\u001b[49m\u001b[43m(\u001b[49m\u001b[43mlabels\u001b[49m\u001b[43m,\u001b[49m\u001b[43m \u001b[49m\u001b[43maxis\u001b[49m\u001b[43m,\u001b[49m\u001b[43m \u001b[49m\u001b[43mlevel\u001b[49m\u001b[38;5;241;43m=\u001b[39;49m\u001b[43mlevel\u001b[49m\u001b[43m,\u001b[49m\u001b[43m \u001b[49m\u001b[43merrors\u001b[49m\u001b[38;5;241;43m=\u001b[39;49m\u001b[43merrors\u001b[49m\u001b[43m)\u001b[49m\n\u001b[0;32m   4269\u001b[0m \u001b[38;5;28;01mif\u001b[39;00m inplace:\n\u001b[0;32m   4270\u001b[0m     \u001b[38;5;28mself\u001b[39m\u001b[38;5;241m.\u001b[39m_update_inplace(obj)\n",
      "File \u001b[1;32mC:\\ProgramData\\Anaconda3\\lib\\site-packages\\pandas\\core\\generic.py:4311\u001b[0m, in \u001b[0;36mNDFrame._drop_axis\u001b[1;34m(self, labels, axis, level, errors, consolidate, only_slice)\u001b[0m\n\u001b[0;32m   4309\u001b[0m         new_axis \u001b[38;5;241m=\u001b[39m axis\u001b[38;5;241m.\u001b[39mdrop(labels, level\u001b[38;5;241m=\u001b[39mlevel, errors\u001b[38;5;241m=\u001b[39merrors)\n\u001b[0;32m   4310\u001b[0m     \u001b[38;5;28;01melse\u001b[39;00m:\n\u001b[1;32m-> 4311\u001b[0m         new_axis \u001b[38;5;241m=\u001b[39m \u001b[43maxis\u001b[49m\u001b[38;5;241;43m.\u001b[39;49m\u001b[43mdrop\u001b[49m\u001b[43m(\u001b[49m\u001b[43mlabels\u001b[49m\u001b[43m,\u001b[49m\u001b[43m \u001b[49m\u001b[43merrors\u001b[49m\u001b[38;5;241;43m=\u001b[39;49m\u001b[43merrors\u001b[49m\u001b[43m)\u001b[49m\n\u001b[0;32m   4312\u001b[0m     indexer \u001b[38;5;241m=\u001b[39m axis\u001b[38;5;241m.\u001b[39mget_indexer(new_axis)\n\u001b[0;32m   4314\u001b[0m \u001b[38;5;66;03m# Case for non-unique axis\u001b[39;00m\n\u001b[0;32m   4315\u001b[0m \u001b[38;5;28;01melse\u001b[39;00m:\n",
      "File \u001b[1;32mC:\\ProgramData\\Anaconda3\\lib\\site-packages\\pandas\\core\\indexes\\base.py:6644\u001b[0m, in \u001b[0;36mIndex.drop\u001b[1;34m(self, labels, errors)\u001b[0m\n\u001b[0;32m   6642\u001b[0m \u001b[38;5;28;01mif\u001b[39;00m mask\u001b[38;5;241m.\u001b[39many():\n\u001b[0;32m   6643\u001b[0m     \u001b[38;5;28;01mif\u001b[39;00m errors \u001b[38;5;241m!=\u001b[39m \u001b[38;5;124m\"\u001b[39m\u001b[38;5;124mignore\u001b[39m\u001b[38;5;124m\"\u001b[39m:\n\u001b[1;32m-> 6644\u001b[0m         \u001b[38;5;28;01mraise\u001b[39;00m \u001b[38;5;167;01mKeyError\u001b[39;00m(\u001b[38;5;124mf\u001b[39m\u001b[38;5;124m\"\u001b[39m\u001b[38;5;132;01m{\u001b[39;00m\u001b[38;5;28mlist\u001b[39m(labels[mask])\u001b[38;5;132;01m}\u001b[39;00m\u001b[38;5;124m not found in axis\u001b[39m\u001b[38;5;124m\"\u001b[39m)\n\u001b[0;32m   6645\u001b[0m     indexer \u001b[38;5;241m=\u001b[39m indexer[\u001b[38;5;241m~\u001b[39mmask]\n\u001b[0;32m   6646\u001b[0m \u001b[38;5;28;01mreturn\u001b[39;00m \u001b[38;5;28mself\u001b[39m\u001b[38;5;241m.\u001b[39mdelete(indexer)\n",
      "\u001b[1;31mKeyError\u001b[0m: \"['Revenue.Grid'] not found in axis\""
     ]
    }
   ],
   "source": [
    "fullRaw2=fullRaw.copy()\n",
    "fullRaw2.drop(['Revenue.Grid'],axis=1,inplace=True)\n",
    "fullRaw2.head()\n",
    "fullRaw2.shape"
   ]
  },
  {
   "cell_type": "code",
   "execution_count": 54,
   "id": "98882cfb",
   "metadata": {},
   "outputs": [
    {
     "data": {
      "text/html": [
       "<div>\n",
       "<style scoped>\n",
       "    .dataframe tbody tr th:only-of-type {\n",
       "        vertical-align: middle;\n",
       "    }\n",
       "\n",
       "    .dataframe tbody tr th {\n",
       "        vertical-align: top;\n",
       "    }\n",
       "\n",
       "    .dataframe thead th {\n",
       "        text-align: right;\n",
       "    }\n",
       "</style>\n",
       "<table border=\"1\" class=\"dataframe\">\n",
       "  <thead>\n",
       "    <tr style=\"text-align: right;\">\n",
       "      <th></th>\n",
       "      <th>REF_NO</th>\n",
       "      <th>children</th>\n",
       "      <th>age_band</th>\n",
       "      <th>status</th>\n",
       "      <th>occupation</th>\n",
       "      <th>occupation_partner</th>\n",
       "      <th>home_status</th>\n",
       "      <th>family_income</th>\n",
       "      <th>self_employed</th>\n",
       "      <th>self_employed_partner</th>\n",
       "      <th>year_last_moved</th>\n",
       "      <th>TVarea</th>\n",
       "      <th>post_code</th>\n",
       "      <th>post_area</th>\n",
       "      <th>Average.Credit.Card.Transaction</th>\n",
       "      <th>Balance.Transfer</th>\n",
       "      <th>Term.Deposit</th>\n",
       "      <th>Life.Insurance</th>\n",
       "      <th>Medical.Insurance</th>\n",
       "      <th>Average.A.C.Balance</th>\n",
       "      <th>Personal.Loan</th>\n",
       "      <th>Investment.in.Mutual.Fund</th>\n",
       "      <th>Investment.Tax.Saving.Bond</th>\n",
       "      <th>Home.Loan</th>\n",
       "      <th>Online.Purchase.Amount</th>\n",
       "      <th>gender</th>\n",
       "      <th>region</th>\n",
       "      <th>Investment.in.Commudity</th>\n",
       "      <th>Investment.in.Equity</th>\n",
       "      <th>Investment.in.Derivative</th>\n",
       "      <th>Portfolio.Balance</th>\n",
       "      <th>Source</th>\n",
       "    </tr>\n",
       "  </thead>\n",
       "  <tbody>\n",
       "    <tr>\n",
       "      <th>5316</th>\n",
       "      <td>1685</td>\n",
       "      <td>4</td>\n",
       "      <td>4</td>\n",
       "      <td>1</td>\n",
       "      <td>1</td>\n",
       "      <td>2</td>\n",
       "      <td>1</td>\n",
       "      <td>3</td>\n",
       "      <td>0</td>\n",
       "      <td>0</td>\n",
       "      <td>1996</td>\n",
       "      <td>0</td>\n",
       "      <td>CB9 9HF</td>\n",
       "      <td>CB9</td>\n",
       "      <td>74.97</td>\n",
       "      <td>0.00</td>\n",
       "      <td>79.96</td>\n",
       "      <td>22.99</td>\n",
       "      <td>15.49</td>\n",
       "      <td>24.99</td>\n",
       "      <td>0.00</td>\n",
       "      <td>11.99</td>\n",
       "      <td>14.48</td>\n",
       "      <td>0.00</td>\n",
       "      <td>0.0</td>\n",
       "      <td>2</td>\n",
       "      <td>1</td>\n",
       "      <td>38.68</td>\n",
       "      <td>8.58</td>\n",
       "      <td>14.99</td>\n",
       "      <td>59.07</td>\n",
       "      <td>1</td>\n",
       "    </tr>\n",
       "    <tr>\n",
       "      <th>1073</th>\n",
       "      <td>1612</td>\n",
       "      <td>0</td>\n",
       "      <td>2</td>\n",
       "      <td>1</td>\n",
       "      <td>6</td>\n",
       "      <td>4</td>\n",
       "      <td>1</td>\n",
       "      <td>4</td>\n",
       "      <td>0</td>\n",
       "      <td>0</td>\n",
       "      <td>1982</td>\n",
       "      <td>3</td>\n",
       "      <td>NG25 0BJ</td>\n",
       "      <td>NG25</td>\n",
       "      <td>0.00</td>\n",
       "      <td>0.00</td>\n",
       "      <td>32.28</td>\n",
       "      <td>126.93</td>\n",
       "      <td>34.95</td>\n",
       "      <td>59.98</td>\n",
       "      <td>36.97</td>\n",
       "      <td>15.99</td>\n",
       "      <td>0.00</td>\n",
       "      <td>0.00</td>\n",
       "      <td>0.0</td>\n",
       "      <td>2</td>\n",
       "      <td>2</td>\n",
       "      <td>38.83</td>\n",
       "      <td>18.82</td>\n",
       "      <td>45.80</td>\n",
       "      <td>112.32</td>\n",
       "      <td>1</td>\n",
       "    </tr>\n",
       "    <tr>\n",
       "      <th>7552</th>\n",
       "      <td>7750</td>\n",
       "      <td>0</td>\n",
       "      <td>2</td>\n",
       "      <td>1</td>\n",
       "      <td>3</td>\n",
       "      <td>0</td>\n",
       "      <td>1</td>\n",
       "      <td>3</td>\n",
       "      <td>0</td>\n",
       "      <td>0</td>\n",
       "      <td>1968</td>\n",
       "      <td>13</td>\n",
       "      <td>S32 4TS</td>\n",
       "      <td>S32</td>\n",
       "      <td>0.00</td>\n",
       "      <td>153.95</td>\n",
       "      <td>0.00</td>\n",
       "      <td>276.37</td>\n",
       "      <td>24.99</td>\n",
       "      <td>172.87</td>\n",
       "      <td>20.98</td>\n",
       "      <td>71.93</td>\n",
       "      <td>0.00</td>\n",
       "      <td>11.99</td>\n",
       "      <td>0.0</td>\n",
       "      <td>2</td>\n",
       "      <td>2</td>\n",
       "      <td>91.06</td>\n",
       "      <td>46.30</td>\n",
       "      <td>94.52</td>\n",
       "      <td>184.96</td>\n",
       "      <td>1</td>\n",
       "    </tr>\n",
       "    <tr>\n",
       "      <th>3372</th>\n",
       "      <td>3840</td>\n",
       "      <td>4</td>\n",
       "      <td>0</td>\n",
       "      <td>3</td>\n",
       "      <td>8</td>\n",
       "      <td>8</td>\n",
       "      <td>4</td>\n",
       "      <td>5</td>\n",
       "      <td>0</td>\n",
       "      <td>0</td>\n",
       "      <td>0</td>\n",
       "      <td>8</td>\n",
       "      <td>KA30 8LB</td>\n",
       "      <td>KA30</td>\n",
       "      <td>0.00</td>\n",
       "      <td>0.00</td>\n",
       "      <td>29.99</td>\n",
       "      <td>0.00</td>\n",
       "      <td>0.00</td>\n",
       "      <td>0.00</td>\n",
       "      <td>0.00</td>\n",
       "      <td>0.00</td>\n",
       "      <td>0.00</td>\n",
       "      <td>0.00</td>\n",
       "      <td>0.0</td>\n",
       "      <td>2</td>\n",
       "      <td>7</td>\n",
       "      <td>6.00</td>\n",
       "      <td>0.00</td>\n",
       "      <td>0.00</td>\n",
       "      <td>5.92</td>\n",
       "      <td>1</td>\n",
       "    </tr>\n",
       "    <tr>\n",
       "      <th>1207</th>\n",
       "      <td>6293</td>\n",
       "      <td>4</td>\n",
       "      <td>2</td>\n",
       "      <td>2</td>\n",
       "      <td>6</td>\n",
       "      <td>8</td>\n",
       "      <td>1</td>\n",
       "      <td>3</td>\n",
       "      <td>0</td>\n",
       "      <td>0</td>\n",
       "      <td>1978</td>\n",
       "      <td>10</td>\n",
       "      <td>TS22 5AX</td>\n",
       "      <td>TS22</td>\n",
       "      <td>6.99</td>\n",
       "      <td>0.00</td>\n",
       "      <td>0.00</td>\n",
       "      <td>40.96</td>\n",
       "      <td>0.00</td>\n",
       "      <td>7.99</td>\n",
       "      <td>0.00</td>\n",
       "      <td>13.49</td>\n",
       "      <td>3.49</td>\n",
       "      <td>1.49</td>\n",
       "      <td>0.0</td>\n",
       "      <td>2</td>\n",
       "      <td>4</td>\n",
       "      <td>9.59</td>\n",
       "      <td>4.41</td>\n",
       "      <td>10.99</td>\n",
       "      <td>1.29</td>\n",
       "      <td>1</td>\n",
       "    </tr>\n",
       "  </tbody>\n",
       "</table>\n",
       "</div>"
      ],
      "text/plain": [
       "      REF_NO  children  age_band  status  occupation  occupation_partner  home_status  family_income  self_employed  self_employed_partner  year_last_moved  TVarea post_code post_area  Average.Credit.Card.Transaction  Balance.Transfer  Term.Deposit  Life.Insurance  Medical.Insurance  Average.A.C.Balance  Personal.Loan  Investment.in.Mutual.Fund  Investment.Tax.Saving.Bond  Home.Loan  Online.Purchase.Amount  gender  region  Investment.in.Commudity  Investment.in.Equity  Investment.in.Derivative  Portfolio.Balance  Source\n",
       "5316    1685         4         4       1           1                   2            1              3              0                      0             1996       0   CB9 9HF       CB9                            74.97              0.00         79.96           22.99              15.49                24.99           0.00                      11.99                       14.48       0.00                     0.0       2       1                    38.68                  8.58                     14.99              59.07       1\n",
       "1073    1612         0         2       1           6                   4            1              4              0                      0             1982       3  NG25 0BJ      NG25                             0.00              0.00         32.28          126.93              34.95                59.98          36.97                      15.99                        0.00       0.00                     0.0       2       2                    38.83                 18.82                     45.80             112.32       1\n",
       "7552    7750         0         2       1           3                   0            1              3              0                      0             1968      13   S32 4TS       S32                             0.00            153.95          0.00          276.37              24.99               172.87          20.98                      71.93                        0.00      11.99                     0.0       2       2                    91.06                 46.30                     94.52             184.96       1\n",
       "3372    3840         4         0       3           8                   8            4              5              0                      0                0       8  KA30 8LB      KA30                             0.00              0.00         29.99            0.00               0.00                 0.00           0.00                       0.00                        0.00       0.00                     0.0       2       7                     6.00                  0.00                      0.00               5.92       1\n",
       "1207    6293         4         2       2           6                   8            1              3              0                      0             1978      10  TS22 5AX      TS22                             6.99              0.00          0.00           40.96               0.00                 7.99           0.00                      13.49                        3.49       1.49                     0.0       2       4                     9.59                  4.41                     10.99               1.29       1"
      ]
     },
     "execution_count": 54,
     "metadata": {},
     "output_type": "execute_result"
    }
   ],
   "source": [
    "fullRaw2.head()"
   ]
  },
  {
   "cell_type": "code",
   "execution_count": 55,
   "id": "9368425e",
   "metadata": {},
   "outputs": [],
   "source": [
    "from statsmodels.stats.outliers_influence import variance_inflation_factor\n",
    "from statsmodels.api import add_constant"
   ]
  },
  {
   "cell_type": "code",
   "execution_count": 56,
   "id": "48688ad0",
   "metadata": {},
   "outputs": [],
   "source": [
    "vif_data = pd.DataFrame()\n",
    "vif_data[\"feature\"] = fullRaw2.columns  "
   ]
  },
  {
   "cell_type": "code",
   "execution_count": 57,
   "id": "3f09d047",
   "metadata": {},
   "outputs": [
    {
     "data": {
      "text/plain": [
       "(8124, 33)"
      ]
     },
     "execution_count": 57,
     "metadata": {},
     "output_type": "execute_result"
    }
   ],
   "source": [
    "constant=add_constant(fullRaw2)\n",
    "constant.shape"
   ]
  },
  {
   "cell_type": "code",
   "execution_count": 58,
   "id": "3c59283c",
   "metadata": {},
   "outputs": [
    {
     "data": {
      "text/plain": [
       "1.0    8124\n",
       "Name: const, dtype: int64"
      ]
     },
     "execution_count": 58,
     "metadata": {},
     "output_type": "execute_result"
    }
   ],
   "source": [
    "constant['const'].value_counts()"
   ]
  },
  {
   "cell_type": "code",
   "execution_count": 59,
   "id": "2d4afd7c",
   "metadata": {},
   "outputs": [
    {
     "ename": "TypeError",
     "evalue": "ufunc 'isfinite' not supported for the input types, and the inputs could not be safely coerced to any supported types according to the casting rule ''safe''",
     "output_type": "error",
     "traceback": [
      "\u001b[1;31m---------------------------------------------------------------------------\u001b[0m",
      "\u001b[1;31mTypeError\u001b[0m                                 Traceback (most recent call last)",
      "Input \u001b[1;32mIn [59]\u001b[0m, in \u001b[0;36m<cell line: 1>\u001b[1;34m()\u001b[0m\n\u001b[1;32m----> 1\u001b[0m vif_data[\u001b[38;5;124m'\u001b[39m\u001b[38;5;124mVIF\u001b[39m\u001b[38;5;124m'\u001b[39m]\u001b[38;5;241m=\u001b[39m[variance_inflation_factor(constant\u001b[38;5;241m.\u001b[39mvalues,i) \u001b[38;5;28;01mfor\u001b[39;00m i \u001b[38;5;129;01min\u001b[39;00m \u001b[38;5;28mrange\u001b[39m (constant\u001b[38;5;241m.\u001b[39mshape[\u001b[38;5;241m1\u001b[39m])]\n",
      "Input \u001b[1;32mIn [59]\u001b[0m, in \u001b[0;36m<listcomp>\u001b[1;34m(.0)\u001b[0m\n\u001b[1;32m----> 1\u001b[0m vif_data[\u001b[38;5;124m'\u001b[39m\u001b[38;5;124mVIF\u001b[39m\u001b[38;5;124m'\u001b[39m]\u001b[38;5;241m=\u001b[39m[\u001b[43mvariance_inflation_factor\u001b[49m\u001b[43m(\u001b[49m\u001b[43mconstant\u001b[49m\u001b[38;5;241;43m.\u001b[39;49m\u001b[43mvalues\u001b[49m\u001b[43m,\u001b[49m\u001b[43mi\u001b[49m\u001b[43m)\u001b[49m \u001b[38;5;28;01mfor\u001b[39;00m i \u001b[38;5;129;01min\u001b[39;00m \u001b[38;5;28mrange\u001b[39m (constant\u001b[38;5;241m.\u001b[39mshape[\u001b[38;5;241m1\u001b[39m])]\n",
      "File \u001b[1;32mC:\\ProgramData\\Anaconda3\\lib\\site-packages\\statsmodels\\stats\\outliers_influence.py:194\u001b[0m, in \u001b[0;36mvariance_inflation_factor\u001b[1;34m(exog, exog_idx)\u001b[0m\n\u001b[0;32m    192\u001b[0m mask \u001b[38;5;241m=\u001b[39m np\u001b[38;5;241m.\u001b[39marange(k_vars) \u001b[38;5;241m!=\u001b[39m exog_idx\n\u001b[0;32m    193\u001b[0m x_noti \u001b[38;5;241m=\u001b[39m exog[:, mask]\n\u001b[1;32m--> 194\u001b[0m r_squared_i \u001b[38;5;241m=\u001b[39m \u001b[43mOLS\u001b[49m\u001b[43m(\u001b[49m\u001b[43mx_i\u001b[49m\u001b[43m,\u001b[49m\u001b[43m \u001b[49m\u001b[43mx_noti\u001b[49m\u001b[43m)\u001b[49m\u001b[38;5;241m.\u001b[39mfit()\u001b[38;5;241m.\u001b[39mrsquared\n\u001b[0;32m    195\u001b[0m vif \u001b[38;5;241m=\u001b[39m \u001b[38;5;241m1.\u001b[39m \u001b[38;5;241m/\u001b[39m (\u001b[38;5;241m1.\u001b[39m \u001b[38;5;241m-\u001b[39m r_squared_i)\n\u001b[0;32m    196\u001b[0m \u001b[38;5;28;01mreturn\u001b[39;00m vif\n",
      "File \u001b[1;32mC:\\ProgramData\\Anaconda3\\lib\\site-packages\\statsmodels\\regression\\linear_model.py:890\u001b[0m, in \u001b[0;36mOLS.__init__\u001b[1;34m(self, endog, exog, missing, hasconst, **kwargs)\u001b[0m\n\u001b[0;32m    887\u001b[0m     msg \u001b[38;5;241m=\u001b[39m (\u001b[38;5;124m\"\u001b[39m\u001b[38;5;124mWeights are not supported in OLS and will be ignored\u001b[39m\u001b[38;5;124m\"\u001b[39m\n\u001b[0;32m    888\u001b[0m            \u001b[38;5;124m\"\u001b[39m\u001b[38;5;124mAn exception will be raised in the next version.\u001b[39m\u001b[38;5;124m\"\u001b[39m)\n\u001b[0;32m    889\u001b[0m     warnings\u001b[38;5;241m.\u001b[39mwarn(msg, ValueWarning)\n\u001b[1;32m--> 890\u001b[0m \u001b[38;5;28msuper\u001b[39m(OLS, \u001b[38;5;28mself\u001b[39m)\u001b[38;5;241m.\u001b[39m\u001b[38;5;21m__init__\u001b[39m(endog, exog, missing\u001b[38;5;241m=\u001b[39mmissing,\n\u001b[0;32m    891\u001b[0m                           hasconst\u001b[38;5;241m=\u001b[39mhasconst, \u001b[38;5;241m*\u001b[39m\u001b[38;5;241m*\u001b[39mkwargs)\n\u001b[0;32m    892\u001b[0m \u001b[38;5;28;01mif\u001b[39;00m \u001b[38;5;124m\"\u001b[39m\u001b[38;5;124mweights\u001b[39m\u001b[38;5;124m\"\u001b[39m \u001b[38;5;129;01min\u001b[39;00m \u001b[38;5;28mself\u001b[39m\u001b[38;5;241m.\u001b[39m_init_keys:\n\u001b[0;32m    893\u001b[0m     \u001b[38;5;28mself\u001b[39m\u001b[38;5;241m.\u001b[39m_init_keys\u001b[38;5;241m.\u001b[39mremove(\u001b[38;5;124m\"\u001b[39m\u001b[38;5;124mweights\u001b[39m\u001b[38;5;124m\"\u001b[39m)\n",
      "File \u001b[1;32mC:\\ProgramData\\Anaconda3\\lib\\site-packages\\statsmodels\\regression\\linear_model.py:717\u001b[0m, in \u001b[0;36mWLS.__init__\u001b[1;34m(self, endog, exog, weights, missing, hasconst, **kwargs)\u001b[0m\n\u001b[0;32m    715\u001b[0m \u001b[38;5;28;01melse\u001b[39;00m:\n\u001b[0;32m    716\u001b[0m     weights \u001b[38;5;241m=\u001b[39m weights\u001b[38;5;241m.\u001b[39msqueeze()\n\u001b[1;32m--> 717\u001b[0m \u001b[38;5;28msuper\u001b[39m(WLS, \u001b[38;5;28mself\u001b[39m)\u001b[38;5;241m.\u001b[39m\u001b[38;5;21m__init__\u001b[39m(endog, exog, missing\u001b[38;5;241m=\u001b[39mmissing,\n\u001b[0;32m    718\u001b[0m                           weights\u001b[38;5;241m=\u001b[39mweights, hasconst\u001b[38;5;241m=\u001b[39mhasconst, \u001b[38;5;241m*\u001b[39m\u001b[38;5;241m*\u001b[39mkwargs)\n\u001b[0;32m    719\u001b[0m nobs \u001b[38;5;241m=\u001b[39m \u001b[38;5;28mself\u001b[39m\u001b[38;5;241m.\u001b[39mexog\u001b[38;5;241m.\u001b[39mshape[\u001b[38;5;241m0\u001b[39m]\n\u001b[0;32m    720\u001b[0m weights \u001b[38;5;241m=\u001b[39m \u001b[38;5;28mself\u001b[39m\u001b[38;5;241m.\u001b[39mweights\n",
      "File \u001b[1;32mC:\\ProgramData\\Anaconda3\\lib\\site-packages\\statsmodels\\regression\\linear_model.py:191\u001b[0m, in \u001b[0;36mRegressionModel.__init__\u001b[1;34m(self, endog, exog, **kwargs)\u001b[0m\n\u001b[0;32m    190\u001b[0m \u001b[38;5;28;01mdef\u001b[39;00m \u001b[38;5;21m__init__\u001b[39m(\u001b[38;5;28mself\u001b[39m, endog, exog, \u001b[38;5;241m*\u001b[39m\u001b[38;5;241m*\u001b[39mkwargs):\n\u001b[1;32m--> 191\u001b[0m     \u001b[38;5;28msuper\u001b[39m(RegressionModel, \u001b[38;5;28mself\u001b[39m)\u001b[38;5;241m.\u001b[39m\u001b[38;5;21m__init__\u001b[39m(endog, exog, \u001b[38;5;241m*\u001b[39m\u001b[38;5;241m*\u001b[39mkwargs)\n\u001b[0;32m    192\u001b[0m     \u001b[38;5;28mself\u001b[39m\u001b[38;5;241m.\u001b[39m_data_attr\u001b[38;5;241m.\u001b[39mextend([\u001b[38;5;124m'\u001b[39m\u001b[38;5;124mpinv_wexog\u001b[39m\u001b[38;5;124m'\u001b[39m, \u001b[38;5;124m'\u001b[39m\u001b[38;5;124mwendog\u001b[39m\u001b[38;5;124m'\u001b[39m, \u001b[38;5;124m'\u001b[39m\u001b[38;5;124mwexog\u001b[39m\u001b[38;5;124m'\u001b[39m, \u001b[38;5;124m'\u001b[39m\u001b[38;5;124mweights\u001b[39m\u001b[38;5;124m'\u001b[39m])\n",
      "File \u001b[1;32mC:\\ProgramData\\Anaconda3\\lib\\site-packages\\statsmodels\\base\\model.py:267\u001b[0m, in \u001b[0;36mLikelihoodModel.__init__\u001b[1;34m(self, endog, exog, **kwargs)\u001b[0m\n\u001b[0;32m    266\u001b[0m \u001b[38;5;28;01mdef\u001b[39;00m \u001b[38;5;21m__init__\u001b[39m(\u001b[38;5;28mself\u001b[39m, endog, exog\u001b[38;5;241m=\u001b[39m\u001b[38;5;28;01mNone\u001b[39;00m, \u001b[38;5;241m*\u001b[39m\u001b[38;5;241m*\u001b[39mkwargs):\n\u001b[1;32m--> 267\u001b[0m     \u001b[38;5;28msuper\u001b[39m()\u001b[38;5;241m.\u001b[39m\u001b[38;5;21m__init__\u001b[39m(endog, exog, \u001b[38;5;241m*\u001b[39m\u001b[38;5;241m*\u001b[39mkwargs)\n\u001b[0;32m    268\u001b[0m     \u001b[38;5;28mself\u001b[39m\u001b[38;5;241m.\u001b[39minitialize()\n",
      "File \u001b[1;32mC:\\ProgramData\\Anaconda3\\lib\\site-packages\\statsmodels\\base\\model.py:92\u001b[0m, in \u001b[0;36mModel.__init__\u001b[1;34m(self, endog, exog, **kwargs)\u001b[0m\n\u001b[0;32m     90\u001b[0m missing \u001b[38;5;241m=\u001b[39m kwargs\u001b[38;5;241m.\u001b[39mpop(\u001b[38;5;124m'\u001b[39m\u001b[38;5;124mmissing\u001b[39m\u001b[38;5;124m'\u001b[39m, \u001b[38;5;124m'\u001b[39m\u001b[38;5;124mnone\u001b[39m\u001b[38;5;124m'\u001b[39m)\n\u001b[0;32m     91\u001b[0m hasconst \u001b[38;5;241m=\u001b[39m kwargs\u001b[38;5;241m.\u001b[39mpop(\u001b[38;5;124m'\u001b[39m\u001b[38;5;124mhasconst\u001b[39m\u001b[38;5;124m'\u001b[39m, \u001b[38;5;28;01mNone\u001b[39;00m)\n\u001b[1;32m---> 92\u001b[0m \u001b[38;5;28mself\u001b[39m\u001b[38;5;241m.\u001b[39mdata \u001b[38;5;241m=\u001b[39m \u001b[38;5;28mself\u001b[39m\u001b[38;5;241m.\u001b[39m_handle_data(endog, exog, missing, hasconst,\n\u001b[0;32m     93\u001b[0m                               \u001b[38;5;241m*\u001b[39m\u001b[38;5;241m*\u001b[39mkwargs)\n\u001b[0;32m     94\u001b[0m \u001b[38;5;28mself\u001b[39m\u001b[38;5;241m.\u001b[39mk_constant \u001b[38;5;241m=\u001b[39m \u001b[38;5;28mself\u001b[39m\u001b[38;5;241m.\u001b[39mdata\u001b[38;5;241m.\u001b[39mk_constant\n\u001b[0;32m     95\u001b[0m \u001b[38;5;28mself\u001b[39m\u001b[38;5;241m.\u001b[39mexog \u001b[38;5;241m=\u001b[39m \u001b[38;5;28mself\u001b[39m\u001b[38;5;241m.\u001b[39mdata\u001b[38;5;241m.\u001b[39mexog\n",
      "File \u001b[1;32mC:\\ProgramData\\Anaconda3\\lib\\site-packages\\statsmodels\\base\\model.py:132\u001b[0m, in \u001b[0;36mModel._handle_data\u001b[1;34m(self, endog, exog, missing, hasconst, **kwargs)\u001b[0m\n\u001b[0;32m    131\u001b[0m \u001b[38;5;28;01mdef\u001b[39;00m \u001b[38;5;21m_handle_data\u001b[39m(\u001b[38;5;28mself\u001b[39m, endog, exog, missing, hasconst, \u001b[38;5;241m*\u001b[39m\u001b[38;5;241m*\u001b[39mkwargs):\n\u001b[1;32m--> 132\u001b[0m     data \u001b[38;5;241m=\u001b[39m handle_data(endog, exog, missing, hasconst, \u001b[38;5;241m*\u001b[39m\u001b[38;5;241m*\u001b[39mkwargs)\n\u001b[0;32m    133\u001b[0m     \u001b[38;5;66;03m# kwargs arrays could have changed, easier to just attach here\u001b[39;00m\n\u001b[0;32m    134\u001b[0m     \u001b[38;5;28;01mfor\u001b[39;00m key \u001b[38;5;129;01min\u001b[39;00m kwargs:\n",
      "File \u001b[1;32mC:\\ProgramData\\Anaconda3\\lib\\site-packages\\statsmodels\\base\\data.py:673\u001b[0m, in \u001b[0;36mhandle_data\u001b[1;34m(endog, exog, missing, hasconst, **kwargs)\u001b[0m\n\u001b[0;32m    670\u001b[0m     exog \u001b[38;5;241m=\u001b[39m np\u001b[38;5;241m.\u001b[39masarray(exog)\n\u001b[0;32m    672\u001b[0m klass \u001b[38;5;241m=\u001b[39m handle_data_class_factory(endog, exog)\n\u001b[1;32m--> 673\u001b[0m \u001b[38;5;28;01mreturn\u001b[39;00m klass(endog, exog\u001b[38;5;241m=\u001b[39mexog, missing\u001b[38;5;241m=\u001b[39mmissing, hasconst\u001b[38;5;241m=\u001b[39mhasconst,\n\u001b[0;32m    674\u001b[0m              \u001b[38;5;241m*\u001b[39m\u001b[38;5;241m*\u001b[39mkwargs)\n",
      "File \u001b[1;32mC:\\ProgramData\\Anaconda3\\lib\\site-packages\\statsmodels\\base\\data.py:86\u001b[0m, in \u001b[0;36mModelData.__init__\u001b[1;34m(self, endog, exog, missing, hasconst, **kwargs)\u001b[0m\n\u001b[0;32m     84\u001b[0m \u001b[38;5;28mself\u001b[39m\u001b[38;5;241m.\u001b[39mconst_idx \u001b[38;5;241m=\u001b[39m \u001b[38;5;28;01mNone\u001b[39;00m\n\u001b[0;32m     85\u001b[0m \u001b[38;5;28mself\u001b[39m\u001b[38;5;241m.\u001b[39mk_constant \u001b[38;5;241m=\u001b[39m \u001b[38;5;241m0\u001b[39m\n\u001b[1;32m---> 86\u001b[0m \u001b[38;5;28;43mself\u001b[39;49m\u001b[38;5;241;43m.\u001b[39;49m\u001b[43m_handle_constant\u001b[49m\u001b[43m(\u001b[49m\u001b[43mhasconst\u001b[49m\u001b[43m)\u001b[49m\n\u001b[0;32m     87\u001b[0m \u001b[38;5;28mself\u001b[39m\u001b[38;5;241m.\u001b[39m_check_integrity()\n\u001b[0;32m     88\u001b[0m \u001b[38;5;28mself\u001b[39m\u001b[38;5;241m.\u001b[39m_cache \u001b[38;5;241m=\u001b[39m {}\n",
      "File \u001b[1;32mC:\\ProgramData\\Anaconda3\\lib\\site-packages\\statsmodels\\base\\data.py:131\u001b[0m, in \u001b[0;36mModelData._handle_constant\u001b[1;34m(self, hasconst)\u001b[0m\n\u001b[0;32m    129\u001b[0m check_implicit \u001b[38;5;241m=\u001b[39m \u001b[38;5;28;01mFalse\u001b[39;00m\n\u001b[0;32m    130\u001b[0m exog_max \u001b[38;5;241m=\u001b[39m np\u001b[38;5;241m.\u001b[39mmax(\u001b[38;5;28mself\u001b[39m\u001b[38;5;241m.\u001b[39mexog, axis\u001b[38;5;241m=\u001b[39m\u001b[38;5;241m0\u001b[39m)\n\u001b[1;32m--> 131\u001b[0m \u001b[38;5;28;01mif\u001b[39;00m \u001b[38;5;129;01mnot\u001b[39;00m \u001b[43mnp\u001b[49m\u001b[38;5;241;43m.\u001b[39;49m\u001b[43misfinite\u001b[49m\u001b[43m(\u001b[49m\u001b[43mexog_max\u001b[49m\u001b[43m)\u001b[49m\u001b[38;5;241m.\u001b[39mall():\n\u001b[0;32m    132\u001b[0m     \u001b[38;5;28;01mraise\u001b[39;00m MissingDataError(\u001b[38;5;124m'\u001b[39m\u001b[38;5;124mexog contains inf or nans\u001b[39m\u001b[38;5;124m'\u001b[39m)\n\u001b[0;32m    133\u001b[0m exog_min \u001b[38;5;241m=\u001b[39m np\u001b[38;5;241m.\u001b[39mmin(\u001b[38;5;28mself\u001b[39m\u001b[38;5;241m.\u001b[39mexog, axis\u001b[38;5;241m=\u001b[39m\u001b[38;5;241m0\u001b[39m)\n",
      "\u001b[1;31mTypeError\u001b[0m: ufunc 'isfinite' not supported for the input types, and the inputs could not be safely coerced to any supported types according to the casting rule ''safe''"
     ]
    }
   ],
   "source": [
    "vif_data['VIF']=[variance_inflation_factor(constant.values,i) for i in range (constant.shape[1])]"
   ]
  },
  {
   "cell_type": "code",
   "execution_count": 141,
   "id": "9358b063",
   "metadata": {},
   "outputs": [
    {
     "data": {
      "text/plain": [
       "0                              REF_NO\n",
       "1                            children\n",
       "2                            age_band\n",
       "3                              status\n",
       "4                          occupation\n",
       "5                  occupation_partner\n",
       "6                         home_status\n",
       "7                       family_income\n",
       "8                       self_employed\n",
       "9               self_employed_partner\n",
       "10                    year_last_moved\n",
       "11                             TVarea\n",
       "12                          post_code\n",
       "13                          post_area\n",
       "14    Average.Credit.Card.Transaction\n",
       "15                   Balance.Transfer\n",
       "16                       Term.Deposit\n",
       "17                     Life.Insurance\n",
       "18                  Medical.Insurance\n",
       "19                Average.A.C.Balance\n",
       "20                      Personal.Loan\n",
       "21          Investment.in.Mutual.Fund\n",
       "22         Investment.Tax.Saving.Bond\n",
       "23                          Home.Loan\n",
       "24             Online.Purchase.Amount\n",
       "25                             gender\n",
       "26                             region\n",
       "27            Investment.in.Commudity\n",
       "28               Investment.in.Equity\n",
       "29           Investment.in.Derivative\n",
       "30                  Portfolio.Balance\n",
       "Name: feature, dtype: object"
      ]
     },
     "execution_count": 141,
     "metadata": {},
     "output_type": "execute_result"
    }
   ],
   "source": [
    "vif_data['feature']"
   ]
  },
  {
   "cell_type": "code",
   "execution_count": null,
   "id": "64872c0b",
   "metadata": {},
   "outputs": [],
   "source": []
  },
  {
   "cell_type": "code",
   "execution_count": null,
   "id": "565efe3a",
   "metadata": {},
   "outputs": [],
   "source": []
  }
 ],
 "metadata": {
  "celltoolbar": "Raw Cell Format",
  "kernelspec": {
   "display_name": "Python 3 (ipykernel)",
   "language": "python",
   "name": "python3"
  },
  "language_info": {
   "codemirror_mode": {
    "name": "ipython",
    "version": 3
   },
   "file_extension": ".py",
   "mimetype": "text/x-python",
   "name": "python",
   "nbconvert_exporter": "python",
   "pygments_lexer": "ipython3",
   "version": "3.9.12"
  }
 },
 "nbformat": 4,
 "nbformat_minor": 5
}
